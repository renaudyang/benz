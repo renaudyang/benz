{
 "cells": [
  {
   "cell_type": "markdown",
   "metadata": {},
   "source": [
    "# Contents\n"
   ]
  },
  {
   "cell_type": "code",
   "execution_count": 1,
   "metadata": {
    "collapsed": true
   },
   "outputs": [],
   "source": [
    "%matplotlib inline\n",
    "import numpy as np\n",
    "import pandas as pd\n",
    "import matplotlib.pyplot as plt\n",
    "import seaborn as sns"
   ]
  },
  {
   "cell_type": "code",
   "execution_count": 2,
   "metadata": {
    "collapsed": false,
    "scrolled": true
   },
   "outputs": [
    {
     "name": "stdout",
     "output_type": "stream",
     "text": [
      "Traing set shape:  (4209, 378)\n",
      "Test set shape: (4209, 377)\n"
     ]
    }
   ],
   "source": [
    "train_df = pd.read_csv('train.csv')\n",
    "#train_y = train_df.y\n",
    "#train_x = train_df.drop(['y'],axis = 1)\n",
    "test_df = pd.read_csv('test.csv')\n",
    "print 'Traing set shape: ',train_df.shape\n",
    "print 'Test set shape:', test_df.shape\n",
    "catcols = [\"X0\", \"X1\", \"X2\", \"X3\", \"X4\", \"X5\", \"X6\", \"X8\"]"
   ]
  },
  {
   "cell_type": "code",
   "execution_count": 7,
   "metadata": {
    "collapsed": false,
    "scrolled": true
   },
   "outputs": [
    {
     "data": {
      "text/plain": [
       "count    4209.000000\n",
       "mean      100.669318\n",
       "std        12.679381\n",
       "min        72.110000\n",
       "25%        90.820000\n",
       "50%        99.150000\n",
       "75%       109.010000\n",
       "max       265.320000\n",
       "Name: y, dtype: float64"
      ]
     },
     "execution_count": 7,
     "metadata": {},
     "output_type": "execute_result"
    }
   ],
   "source": [
    "train_df['y'].describe()"
   ]
  },
  {
   "cell_type": "code",
   "execution_count": 10,
   "metadata": {
    "collapsed": false,
    "scrolled": true
   },
   "outputs": [
    {
     "data": {
      "text/html": [
       "<div>\n",
       "<table border=\"1\" class=\"dataframe\">\n",
       "  <thead>\n",
       "    <tr style=\"text-align: right;\">\n",
       "      <th></th>\n",
       "      <th>y</th>\n",
       "      <th>ID</th>\n",
       "    </tr>\n",
       "  </thead>\n",
       "  <tbody>\n",
       "    <tr>\n",
       "      <th>y</th>\n",
       "      <td>1.000000</td>\n",
       "      <td>-0.055108</td>\n",
       "    </tr>\n",
       "    <tr>\n",
       "      <th>ID</th>\n",
       "      <td>-0.055108</td>\n",
       "      <td>1.000000</td>\n",
       "    </tr>\n",
       "  </tbody>\n",
       "</table>\n",
       "</div>"
      ],
      "text/plain": [
       "           y        ID\n",
       "y   1.000000 -0.055108\n",
       "ID -0.055108  1.000000"
      ]
     },
     "execution_count": 10,
     "metadata": {},
     "output_type": "execute_result"
    }
   ],
   "source": [
    "train_df[['y','ID']].corr()"
   ]
  },
  {
   "cell_type": "code",
   "execution_count": 17,
   "metadata": {
    "collapsed": true
   },
   "outputs": [],
   "source": [
    "from statsmodels.stats import anova"
   ]
  },
  {
   "cell_type": "code",
   "execution_count": 19,
   "metadata": {
    "collapsed": false,
    "scrolled": true
   },
   "outputs": [],
   "source": [
    "anova.anova_lm?"
   ]
  },
  {
   "cell_type": "markdown",
   "metadata": {},
   "source": [
    "# Exploratory of training set"
   ]
  },
  {
   "cell_type": "code",
   "execution_count": 4,
   "metadata": {
    "collapsed": false,
    "scrolled": false
   },
   "outputs": [
    {
     "data": {
      "text/html": [
       "<div>\n",
       "<table border=\"1\" class=\"dataframe\">\n",
       "  <thead>\n",
       "    <tr style=\"text-align: right;\">\n",
       "      <th></th>\n",
       "      <th>ID</th>\n",
       "      <th>y</th>\n",
       "      <th>X0</th>\n",
       "      <th>X1</th>\n",
       "      <th>X2</th>\n",
       "      <th>X3</th>\n",
       "      <th>X4</th>\n",
       "      <th>X5</th>\n",
       "      <th>X6</th>\n",
       "      <th>X8</th>\n",
       "      <th>...</th>\n",
       "      <th>X375</th>\n",
       "      <th>X376</th>\n",
       "      <th>X377</th>\n",
       "      <th>X378</th>\n",
       "      <th>X379</th>\n",
       "      <th>X380</th>\n",
       "      <th>X382</th>\n",
       "      <th>X383</th>\n",
       "      <th>X384</th>\n",
       "      <th>X385</th>\n",
       "    </tr>\n",
       "  </thead>\n",
       "  <tbody>\n",
       "    <tr>\n",
       "      <th>0</th>\n",
       "      <td>0</td>\n",
       "      <td>130.81</td>\n",
       "      <td>k</td>\n",
       "      <td>v</td>\n",
       "      <td>at</td>\n",
       "      <td>a</td>\n",
       "      <td>d</td>\n",
       "      <td>u</td>\n",
       "      <td>j</td>\n",
       "      <td>o</td>\n",
       "      <td>...</td>\n",
       "      <td>0</td>\n",
       "      <td>0</td>\n",
       "      <td>1</td>\n",
       "      <td>0</td>\n",
       "      <td>0</td>\n",
       "      <td>0</td>\n",
       "      <td>0</td>\n",
       "      <td>0</td>\n",
       "      <td>0</td>\n",
       "      <td>0</td>\n",
       "    </tr>\n",
       "    <tr>\n",
       "      <th>1</th>\n",
       "      <td>6</td>\n",
       "      <td>88.53</td>\n",
       "      <td>k</td>\n",
       "      <td>t</td>\n",
       "      <td>av</td>\n",
       "      <td>e</td>\n",
       "      <td>d</td>\n",
       "      <td>y</td>\n",
       "      <td>l</td>\n",
       "      <td>o</td>\n",
       "      <td>...</td>\n",
       "      <td>1</td>\n",
       "      <td>0</td>\n",
       "      <td>0</td>\n",
       "      <td>0</td>\n",
       "      <td>0</td>\n",
       "      <td>0</td>\n",
       "      <td>0</td>\n",
       "      <td>0</td>\n",
       "      <td>0</td>\n",
       "      <td>0</td>\n",
       "    </tr>\n",
       "    <tr>\n",
       "      <th>2</th>\n",
       "      <td>7</td>\n",
       "      <td>76.26</td>\n",
       "      <td>az</td>\n",
       "      <td>w</td>\n",
       "      <td>n</td>\n",
       "      <td>c</td>\n",
       "      <td>d</td>\n",
       "      <td>x</td>\n",
       "      <td>j</td>\n",
       "      <td>x</td>\n",
       "      <td>...</td>\n",
       "      <td>0</td>\n",
       "      <td>0</td>\n",
       "      <td>0</td>\n",
       "      <td>0</td>\n",
       "      <td>0</td>\n",
       "      <td>0</td>\n",
       "      <td>1</td>\n",
       "      <td>0</td>\n",
       "      <td>0</td>\n",
       "      <td>0</td>\n",
       "    </tr>\n",
       "    <tr>\n",
       "      <th>3</th>\n",
       "      <td>9</td>\n",
       "      <td>80.62</td>\n",
       "      <td>az</td>\n",
       "      <td>t</td>\n",
       "      <td>n</td>\n",
       "      <td>f</td>\n",
       "      <td>d</td>\n",
       "      <td>x</td>\n",
       "      <td>l</td>\n",
       "      <td>e</td>\n",
       "      <td>...</td>\n",
       "      <td>0</td>\n",
       "      <td>0</td>\n",
       "      <td>0</td>\n",
       "      <td>0</td>\n",
       "      <td>0</td>\n",
       "      <td>0</td>\n",
       "      <td>0</td>\n",
       "      <td>0</td>\n",
       "      <td>0</td>\n",
       "      <td>0</td>\n",
       "    </tr>\n",
       "    <tr>\n",
       "      <th>4</th>\n",
       "      <td>13</td>\n",
       "      <td>78.02</td>\n",
       "      <td>az</td>\n",
       "      <td>v</td>\n",
       "      <td>n</td>\n",
       "      <td>f</td>\n",
       "      <td>d</td>\n",
       "      <td>h</td>\n",
       "      <td>d</td>\n",
       "      <td>n</td>\n",
       "      <td>...</td>\n",
       "      <td>0</td>\n",
       "      <td>0</td>\n",
       "      <td>0</td>\n",
       "      <td>0</td>\n",
       "      <td>0</td>\n",
       "      <td>0</td>\n",
       "      <td>0</td>\n",
       "      <td>0</td>\n",
       "      <td>0</td>\n",
       "      <td>0</td>\n",
       "    </tr>\n",
       "  </tbody>\n",
       "</table>\n",
       "<p>5 rows × 378 columns</p>\n",
       "</div>"
      ],
      "text/plain": [
       "   ID       y  X0 X1  X2 X3 X4 X5 X6 X8  ...   X375  X376  X377  X378  X379  \\\n",
       "0   0  130.81   k  v  at  a  d  u  j  o  ...      0     0     1     0     0   \n",
       "1   6   88.53   k  t  av  e  d  y  l  o  ...      1     0     0     0     0   \n",
       "2   7   76.26  az  w   n  c  d  x  j  x  ...      0     0     0     0     0   \n",
       "3   9   80.62  az  t   n  f  d  x  l  e  ...      0     0     0     0     0   \n",
       "4  13   78.02  az  v   n  f  d  h  d  n  ...      0     0     0     0     0   \n",
       "\n",
       "   X380  X382  X383  X384  X385  \n",
       "0     0     0     0     0     0  \n",
       "1     0     0     0     0     0  \n",
       "2     0     1     0     0     0  \n",
       "3     0     0     0     0     0  \n",
       "4     0     0     0     0     0  \n",
       "\n",
       "[5 rows x 378 columns]"
      ]
     },
     "execution_count": 4,
     "metadata": {},
     "output_type": "execute_result"
    }
   ],
   "source": [
    "train_df.head(5)"
   ]
  },
  {
   "cell_type": "code",
   "execution_count": 5,
   "metadata": {
    "collapsed": false,
    "scrolled": true
   },
   "outputs": [
    {
     "data": {
      "text/html": [
       "<div>\n",
       "<table border=\"1\" class=\"dataframe\">\n",
       "  <thead>\n",
       "    <tr style=\"text-align: right;\">\n",
       "      <th></th>\n",
       "      <th>X0</th>\n",
       "      <th>X1</th>\n",
       "      <th>X2</th>\n",
       "      <th>X3</th>\n",
       "      <th>X4</th>\n",
       "      <th>X5</th>\n",
       "      <th>X6</th>\n",
       "      <th>X8</th>\n",
       "    </tr>\n",
       "  </thead>\n",
       "  <tbody>\n",
       "    <tr>\n",
       "      <th>count</th>\n",
       "      <td>4209</td>\n",
       "      <td>4209</td>\n",
       "      <td>4209</td>\n",
       "      <td>4209</td>\n",
       "      <td>4209</td>\n",
       "      <td>4209</td>\n",
       "      <td>4209</td>\n",
       "      <td>4209</td>\n",
       "    </tr>\n",
       "    <tr>\n",
       "      <th>unique</th>\n",
       "      <td>47</td>\n",
       "      <td>27</td>\n",
       "      <td>44</td>\n",
       "      <td>7</td>\n",
       "      <td>4</td>\n",
       "      <td>29</td>\n",
       "      <td>12</td>\n",
       "      <td>25</td>\n",
       "    </tr>\n",
       "    <tr>\n",
       "      <th>top</th>\n",
       "      <td>z</td>\n",
       "      <td>aa</td>\n",
       "      <td>as</td>\n",
       "      <td>c</td>\n",
       "      <td>d</td>\n",
       "      <td>v</td>\n",
       "      <td>g</td>\n",
       "      <td>j</td>\n",
       "    </tr>\n",
       "    <tr>\n",
       "      <th>freq</th>\n",
       "      <td>360</td>\n",
       "      <td>833</td>\n",
       "      <td>1659</td>\n",
       "      <td>1942</td>\n",
       "      <td>4205</td>\n",
       "      <td>231</td>\n",
       "      <td>1042</td>\n",
       "      <td>277</td>\n",
       "    </tr>\n",
       "  </tbody>\n",
       "</table>\n",
       "</div>"
      ],
      "text/plain": [
       "          X0    X1    X2    X3    X4    X5    X6    X8\n",
       "count   4209  4209  4209  4209  4209  4209  4209  4209\n",
       "unique    47    27    44     7     4    29    12    25\n",
       "top        z    aa    as     c     d     v     g     j\n",
       "freq     360   833  1659  1942  4205   231  1042   277"
      ]
     },
     "execution_count": 5,
     "metadata": {},
     "output_type": "execute_result"
    }
   ],
   "source": [
    "train_df.describe(include= [np.object])"
   ]
  },
  {
   "cell_type": "code",
   "execution_count": 6,
   "metadata": {
    "collapsed": false,
    "scrolled": true
   },
   "outputs": [
    {
     "data": {
      "text/html": [
       "<div>\n",
       "<table border=\"1\" class=\"dataframe\">\n",
       "  <thead>\n",
       "    <tr style=\"text-align: right;\">\n",
       "      <th></th>\n",
       "      <th>X0</th>\n",
       "      <th>X1</th>\n",
       "      <th>X2</th>\n",
       "      <th>X3</th>\n",
       "      <th>X4</th>\n",
       "      <th>X5</th>\n",
       "      <th>X6</th>\n",
       "      <th>X8</th>\n",
       "    </tr>\n",
       "  </thead>\n",
       "  <tbody>\n",
       "    <tr>\n",
       "      <th>count</th>\n",
       "      <td>4209</td>\n",
       "      <td>4209</td>\n",
       "      <td>4209</td>\n",
       "      <td>4209</td>\n",
       "      <td>4209</td>\n",
       "      <td>4209</td>\n",
       "      <td>4209</td>\n",
       "      <td>4209</td>\n",
       "    </tr>\n",
       "    <tr>\n",
       "      <th>unique</th>\n",
       "      <td>47</td>\n",
       "      <td>27</td>\n",
       "      <td>44</td>\n",
       "      <td>7</td>\n",
       "      <td>4</td>\n",
       "      <td>29</td>\n",
       "      <td>12</td>\n",
       "      <td>25</td>\n",
       "    </tr>\n",
       "    <tr>\n",
       "      <th>top</th>\n",
       "      <td>z</td>\n",
       "      <td>aa</td>\n",
       "      <td>as</td>\n",
       "      <td>c</td>\n",
       "      <td>d</td>\n",
       "      <td>v</td>\n",
       "      <td>g</td>\n",
       "      <td>j</td>\n",
       "    </tr>\n",
       "    <tr>\n",
       "      <th>freq</th>\n",
       "      <td>360</td>\n",
       "      <td>833</td>\n",
       "      <td>1659</td>\n",
       "      <td>1942</td>\n",
       "      <td>4205</td>\n",
       "      <td>231</td>\n",
       "      <td>1042</td>\n",
       "      <td>277</td>\n",
       "    </tr>\n",
       "  </tbody>\n",
       "</table>\n",
       "</div>"
      ],
      "text/plain": [
       "          X0    X1    X2    X3    X4    X5    X6    X8\n",
       "count   4209  4209  4209  4209  4209  4209  4209  4209\n",
       "unique    47    27    44     7     4    29    12    25\n",
       "top        z    aa    as     c     d     v     g     j\n",
       "freq     360   833  1659  1942  4205   231  1042   277"
      ]
     },
     "execution_count": 6,
     "metadata": {},
     "output_type": "execute_result"
    }
   ],
   "source": [
    "train_df.describe(include=['O'])"
   ]
  },
  {
   "cell_type": "code",
   "execution_count": 7,
   "metadata": {
    "collapsed": false,
    "scrolled": true
   },
   "outputs": [
    {
     "data": {
      "text/plain": [
       "<matplotlib.axes._subplots.AxesSubplot at 0x7f07dd71f9d0>"
      ]
     },
     "execution_count": 7,
     "metadata": {},
     "output_type": "execute_result"
    },
    {
     "data": {
      "image/png": "[encoded data removed]",
      "text/plain": [
       "<matplotlib.figure.Figure at 0x7f07dd6ffb50>"
      ]
     },
     "metadata": {},
     "output_type": "display_data"
    }
   ],
   "source": [
    "sns.violinplot(train_df.y)"
   ]
  },
  {
   "cell_type": "code",
   "execution_count": 8,
   "metadata": {
    "collapsed": false,
    "scrolled": true
   },
   "outputs": [
    {
     "name": "stdout",
     "output_type": "stream",
     "text": [
      "1\n"
     ]
    },
    {
     "data": {
      "text/plain": [
       "<matplotlib.collections.PathCollection at 0x7f07dcf4f790>"
      ]
     },
     "execution_count": 8,
     "metadata": {},
     "output_type": "execute_result"
    },
    {
     "data": {
      "image/png": "[encoded data removed]",
      "text/plain": [
       "<matplotlib.figure.Figure at 0x7f07f7fc1c90>"
      ]
     },
     "metadata": {},
     "output_type": "display_data"
    }
   ],
   "source": [
    "print (train_df.y>200).sum()\n",
    "plt.scatter(range(train_df.shape[0]),train_df.y.sort_values().values)"
   ]
  },
  {
   "cell_type": "code",
   "execution_count": 9,
   "metadata": {
    "collapsed": false,
    "scrolled": true
   },
   "outputs": [
    {
     "data": {
      "text/plain": [
       "883     265.32\n",
       "342     169.91\n",
       "1459    167.45\n",
       "3133    165.52\n",
       "1203    160.87\n",
       "Name: y, dtype: float64"
      ]
     },
     "execution_count": 9,
     "metadata": {},
     "output_type": "execute_result"
    }
   ],
   "source": [
    "train_df.y.sort_values(ascending=0)[:5]"
   ]
  },
  {
   "cell_type": "code",
   "execution_count": 10,
   "metadata": {
    "collapsed": false
   },
   "outputs": [
    {
     "data": {
      "text/html": [
       "<div>\n",
       "<table border=\"1\" class=\"dataframe\">\n",
       "  <thead>\n",
       "    <tr style=\"text-align: right;\">\n",
       "      <th></th>\n",
       "      <th>name</th>\n",
       "    </tr>\n",
       "    <tr>\n",
       "      <th>type</th>\n",
       "      <th></th>\n",
       "    </tr>\n",
       "  </thead>\n",
       "  <tbody>\n",
       "    <tr>\n",
       "      <th>int64</th>\n",
       "      <td>369</td>\n",
       "    </tr>\n",
       "    <tr>\n",
       "      <th>float64</th>\n",
       "      <td>1</td>\n",
       "    </tr>\n",
       "    <tr>\n",
       "      <th>object</th>\n",
       "      <td>8</td>\n",
       "    </tr>\n",
       "  </tbody>\n",
       "</table>\n",
       "</div>"
      ],
      "text/plain": [
       "         name\n",
       "type         \n",
       "int64     369\n",
       "float64     1\n",
       "object      8"
      ]
     },
     "execution_count": 10,
     "metadata": {},
     "output_type": "execute_result"
    }
   ],
   "source": [
    "df_dtype = train_df.dtypes.reset_index()\n",
    "df_dtype.columns = ['name', 'type']\n",
    "df_dtype.groupby('type').count()"
   ]
  },
  {
   "cell_type": "code",
   "execution_count": 11,
   "metadata": {
    "collapsed": false,
    "scrolled": true
   },
   "outputs": [],
   "source": [
    "col = list()\n",
    "for i in range(378):\n",
    "    if len(train_df.iloc[:,i].unique()) == 1:\n",
    "        col.append( train_df.columns[i])"
   ]
  },
  {
   "cell_type": "code",
   "execution_count": 12,
   "metadata": {
    "collapsed": false,
    "scrolled": false
   },
   "outputs": [
    {
     "data": {
      "image/png": "[encoded data removed]",
      "text/plain": [
       "<matplotlib.figure.Figure at 0x7f07dcf23ad0>"
      ]
     },
     "metadata": {},
     "output_type": "display_data"
    },
    {
     "data": {
      "image/png": "[encoded data removed]",
      "text/plain": [
       "<matplotlib.figure.Figure at 0x7f07dcf59110>"
      ]
     },
     "metadata": {},
     "output_type": "display_data"
    },
    {
     "data": {
      "image/png": "[encoded data removed]",
      "text/plain": [
       "<matplotlib.figure.Figure at 0x7f07d838cf50>"
      ]
     },
     "metadata": {},
     "output_type": "display_data"
    },
    {
     "data": {
      "image/png": "[encoded data removed]",
      "text/plain": [
       "<matplotlib.figure.Figure at 0x7f07d8441e10>"
      ]
     },
     "metadata": {},
     "output_type": "display_data"
    },
    {
     "data": {
      "image/png": "[encoded data removed]",
      "text/plain": [
       "<matplotlib.figure.Figure at 0x7f07dce90310>"
      ]
     },
     "metadata": {},
     "output_type": "display_data"
    },
    {
     "data": {
      "image/png": "[encoded data removed]",
      "text/plain": [
       "<matplotlib.figure.Figure at 0x7f07dce486d0>"
      ]
     },
     "metadata": {},
     "output_type": "display_data"
    },
    {
     "data": {
      "image/png": "[encoded data removed]",
      "text/plain": [
       "<matplotlib.figure.Figure at 0x7f07dcbaad50>"
      ]
     },
     "metadata": {},
     "output_type": "display_data"
    },
    {
     "data": {
      "image/png": "[encoded data removed]",
      "text/plain": [
       "<matplotlib.figure.Figure at 0x7f07dc959a10>"
      ]
     },
     "metadata": {},
     "output_type": "display_data"
    }
   ],
   "source": [
    "for i in range(2,10):\n",
    "    #rank = train_df.iloc[:,i].unique()\n",
    "    sns.boxplot(train_df.iloc[:,i], train_df.y)\n",
    "    plt.show()"
   ]
  },
  {
   "cell_type": "code",
   "execution_count": 13,
   "metadata": {
    "collapsed": false,
    "scrolled": true
   },
   "outputs": [
    {
     "ename": "NameError",
     "evalue": "name 'rank' is not defined",
     "output_type": "error",
     "traceback": [
      "\u001b[1;31m---------------------------------------------------------------------------\u001b[0m",
      "\u001b[1;31mNameError\u001b[0m                                 Traceback (most recent call last)",
      "\u001b[1;32m<ipython-input-13-2ab37353cca4>\u001b[0m in \u001b[0;36m<module>\u001b[1;34m()\u001b[0m\n\u001b[0;32m      1\u001b[0m \u001b[1;31m#rank = train_df.groupby(\"X0\")[\"y\"].mean().sort_values().index\u001b[0m\u001b[1;33m\u001b[0m\u001b[1;33m\u001b[0m\u001b[0m\n\u001b[0;32m      2\u001b[0m \u001b[0mplt\u001b[0m\u001b[1;33m.\u001b[0m\u001b[0mfigure\u001b[0m\u001b[1;33m(\u001b[0m\u001b[0mfigsize\u001b[0m\u001b[1;33m=\u001b[0m\u001b[1;33m(\u001b[0m\u001b[1;36m20\u001b[0m\u001b[1;33m,\u001b[0m\u001b[1;36m5\u001b[0m\u001b[1;33m)\u001b[0m\u001b[1;33m)\u001b[0m\u001b[1;33m\u001b[0m\u001b[0m\n\u001b[1;32m----> 3\u001b[1;33m \u001b[0msns\u001b[0m\u001b[1;33m.\u001b[0m\u001b[0mboxplot\u001b[0m\u001b[1;33m(\u001b[0m\u001b[0mtrain_df\u001b[0m\u001b[1;33m.\u001b[0m\u001b[0miloc\u001b[0m\u001b[1;33m[\u001b[0m\u001b[1;33m:\u001b[0m\u001b[1;33m,\u001b[0m\u001b[1;36m2\u001b[0m\u001b[1;33m]\u001b[0m\u001b[1;33m,\u001b[0m \u001b[0mtrain_df\u001b[0m\u001b[1;33m.\u001b[0m\u001b[0my\u001b[0m\u001b[1;33m,\u001b[0m \u001b[0morder\u001b[0m\u001b[1;33m=\u001b[0m\u001b[0mrank\u001b[0m\u001b[1;33m)\u001b[0m\u001b[1;33m\u001b[0m\u001b[0m\n\u001b[0m",
      "\u001b[1;31mNameError\u001b[0m: name 'rank' is not defined"
     ]
    },
    {
     "data": {
      "text/plain": [
       "<matplotlib.figure.Figure at 0x7f07dca7b550>"
      ]
     },
     "metadata": {},
     "output_type": "display_data"
    }
   ],
   "source": [
    "#rank = train_df.groupby(\"X0\")[\"y\"].mean().sort_values().index\n",
    "plt.figure(figsize=(20,5))\n",
    "sns.boxplot(train_df.iloc[:,2], train_df.y, order=rank)"
   ]
  },
  {
   "cell_type": "markdown",
   "metadata": {},
   "source": [
    "# Compare training set and test set"
   ]
  },
  {
   "cell_type": "markdown",
   "metadata": {},
   "source": [
    "## Compare ID to find the split rules"
   ]
  },
  {
   "cell_type": "code",
   "execution_count": null,
   "metadata": {
    "collapsed": false,
    "scrolled": true
   },
   "outputs": [],
   "source": [
    "plt.hist(train_df.ID.values)"
   ]
  },
  {
   "cell_type": "code",
   "execution_count": null,
   "metadata": {
    "collapsed": false
   },
   "outputs": [],
   "source": [
    "plt.hist(test_df.ID.values)"
   ]
  },
  {
   "cell_type": "markdown",
   "metadata": {},
   "source": [
    "# Feature engineering\n",
    "## Categorical value of train and test are different\n",
    "I try to change the catogorical data in test set to values existant in training set."
   ]
  },
  {
   "cell_type": "code",
   "execution_count": null,
   "metadata": {
    "collapsed": false,
    "scrolled": true
   },
   "outputs": [],
   "source": [
    "for i in range(2,10):\n",
    "    print train_df.columns[i], set(test_df.iloc[:,i-1].unique()).difference(set(train_df.iloc[:,i].unique()))"
   ]
  },
  {
   "cell_type": "code",
   "execution_count": null,
   "metadata": {
    "collapsed": false
   },
   "outputs": [],
   "source": [
    "print sorted(test_df.iloc[:,4-1].unique())\n",
    "print sorted(train_df.iloc[:,4].unique())"
   ]
  },
  {
   "cell_type": "code",
   "execution_count": null,
   "metadata": {
    "collapsed": false
   },
   "outputs": [],
   "source": [
    "x0_tran = {'ae':'ad', 'ag':'af','bb':'ba','an':'am','p':'r','av':'aw'}\n",
    "x2_tran = {'ab':'ac', 'ad':'ae', 'aj':'ai', 'u':'t', 'w':'x', 'ax':'ay'}\n",
    "x4_tran = {'a':'aa', 'b':'c', 't':'r', 'z':'y'}\n",
    "\n"
   ]
  },
  {
   "cell_type": "code",
   "execution_count": null,
   "metadata": {
    "collapsed": false
   },
   "outputs": [],
   "source": [
    "test_df.iloc[:,1] = map(lambda x: x0_tran[x] if x in x0_tran.keys() else x, test_df.iloc[:,1])\n",
    "test_df.iloc[:,3] = map(lambda x: x2_tran[x] if x in x2_tran.keys() else x, test_df.iloc[:,3])\n",
    "test_df.iloc[:,6] = map(lambda x: x4_tran[x] if x in x4_tran.keys() else x, test_df.iloc[:,6])"
   ]
  },
  {
   "cell_type": "code",
   "execution_count": null,
   "metadata": {
    "collapsed": false
   },
   "outputs": [],
   "source": [
    "names = []\n",
    "num = []\n",
    "for i in range(2,10):\n",
    "    names.append(train_df.columns[i])\n",
    "    num.append(len(train_df.iloc[:,i].unique()))\n",
    "cat_pd = pd.DataFrame({\"names\" : names, \"num\" : num})\n",
    "print \"Dimension if use OneHot:\", cat_pd.num.sum()\n",
    "print 'Total dimension:', cat_pd.num.sum() + train_df.shape[1] - 8"
   ]
  },
  {
   "cell_type": "code",
   "execution_count": null,
   "metadata": {
    "collapsed": false
   },
   "outputs": [],
   "source": [
    "for i in range(2,10):\n",
    "    print train_df.columns[i], set(test_df.iloc[:,i-1].unique()).difference(set(train_df.iloc[:,i].unique()))"
   ]
  },
  {
   "cell_type": "markdown",
   "metadata": {},
   "source": [
    "## Encode the categorical data"
   ]
  },
  {
   "cell_type": "code",
   "execution_count": null,
   "metadata": {
    "collapsed": false,
    "scrolled": true
   },
   "outputs": [],
   "source": [
    "from sklearn.preprocessing import LabelBinarizer"
   ]
  },
  {
   "cell_type": "code",
   "execution_count": null,
   "metadata": {
    "collapsed": false
   },
   "outputs": [],
   "source": [
    "# fit the Label binarizer\n",
    "lbs = list()\n",
    "for col in train_df.select_dtypes(['object']).columns:\n",
    "    lb = LabelBinarizer().fit(train_df[col])\n",
    "    lbs.append(lb)"
   ]
  },
  {
   "cell_type": "code",
   "execution_count": null,
   "metadata": {
    "collapsed": false,
    "scrolled": false
   },
   "outputs": [],
   "source": [
    "# transform the trianing set\n",
    "for lb in lbs:\n",
    "    bina_df = pd.DataFrame(lb.transform(train_df[col]),\n",
    "                           columns= map(lambda x: col + '_' + str(x), range(len(lb.classes_))))\n",
    "    train_df = pd.concat([train_df, bina_df], axis=1)\n",
    "# transform the test set    \n",
    "for col,lb in zip(test_df.select_dtypes(['object']).columns, lbs):\n",
    "    bina_df = pd.DataFrame(lb.transform(test_df[col]),\n",
    "                           columns= map(lambda x: col + '_' + str(x), range(len(lb.classes_))))\n",
    "    test_df = pd.concat([test_df, bina_df], axis=1)"
   ]
  },
  {
   "cell_type": "markdown",
   "metadata": {},
   "source": [
    "## Drop the features whose values are unique in training set."
   ]
  },
  {
   "cell_type": "code",
   "execution_count": null,
   "metadata": {
    "collapsed": true
   },
   "outputs": [],
   "source": [
    "cols_drop = ['X11', 'X93', 'X107', 'X233', 'X235', 'X268',\n",
    "            'X289','X290','X293','X297','X330','X347']\n",
    "train_df = train_df.drop(cols_drop, axis = 1)\n",
    "test_df = test_df.drop(cols_drop, axis = 1)"
   ]
  },
  {
   "cell_type": "markdown",
   "metadata": {},
   "source": [
    "# Regression\n",
    "## try box-cox transform"
   ]
  },
  {
   "cell_type": "code",
   "execution_count": null,
   "metadata": {
    "collapsed": false
   },
   "outputs": [],
   "source": [
    "from scipy.special import inv_boxcox\n",
    "from scipy.stats import boxcox\n",
    "#y_new, _lambda = boxcox(train_y)"
   ]
  },
  {
   "cell_type": "code",
   "execution_count": null,
   "metadata": {
    "collapsed": false,
    "scrolled": true
   },
   "outputs": [],
   "source": [
    "from sklearn.linear_model import LassoCV\n",
    "from sklearn.metrics import r2_score\n",
    "\n",
    "lr = LassoCV(cv=5)\n",
    "lr.fit(train_df.iloc[:,10:], train_df.y)\n",
    "r2_score(train_df.y, lr.predict(train_df.iloc[:,10:]))"
   ]
  },
  {
   "cell_type": "code",
   "execution_count": null,
   "metadata": {
    "collapsed": false
   },
   "outputs": [],
   "source": [
    "lr.predict(test_df.iloc[:,9:])\n",
    "#test_y_box = lr.predict(test_df.iloc[:,9:])\n",
    "test_df['y'] = lr.predict(test_df.iloc[:,9:])\n",
    "test_df.to_csv('res_rigid.csv',columns =['ID','y'], index =False)"
   ]
  },
  {
   "cell_type": "code",
   "execution_count": null,
   "metadata": {
    "collapsed": false
   },
   "outputs": [],
   "source": [
    "spy_x = pd.read_csv('train-x.csv')"
   ]
  },
  {
   "cell_type": "code",
   "execution_count": 21,
   "metadata": {
    "collapsed": false
   },
   "outputs": [],
   "source": [
    "x = np.linspace(-5, 5, 20)\n",
    "np.random.seed(1)\n",
    "# normal distributed noise\n",
    "y = -5 + 3*x + 4 * np.random.normal(size=x.shape)\n",
    "# Create a data frame containing all the relevant variables\n",
    "data = pd.DataFrame({'x': x, 'y': y})"
   ]
  },
  {
   "cell_type": "code",
   "execution_count": 26,
   "metadata": {
    "collapsed": false
   },
   "outputs": [
    {
     "data": {
      "text/html": [
       "<div>\n",
       "<table border=\"1\" class=\"dataframe\">\n",
       "  <thead>\n",
       "    <tr style=\"text-align: right;\">\n",
       "      <th></th>\n",
       "      <th>ID</th>\n",
       "      <th>y</th>\n",
       "      <th>X0</th>\n",
       "      <th>X1</th>\n",
       "      <th>X2</th>\n",
       "      <th>X3</th>\n",
       "      <th>X4</th>\n",
       "      <th>X5</th>\n",
       "      <th>X6</th>\n",
       "      <th>X8</th>\n",
       "      <th>...</th>\n",
       "      <th>X375</th>\n",
       "      <th>X376</th>\n",
       "      <th>X377</th>\n",
       "      <th>X378</th>\n",
       "      <th>X379</th>\n",
       "      <th>X380</th>\n",
       "      <th>X382</th>\n",
       "      <th>X383</th>\n",
       "      <th>X384</th>\n",
       "      <th>X385</th>\n",
       "    </tr>\n",
       "  </thead>\n",
       "  <tbody>\n",
       "    <tr>\n",
       "      <th>0</th>\n",
       "      <td>0</td>\n",
       "      <td>130.81</td>\n",
       "      <td>k</td>\n",
       "      <td>v</td>\n",
       "      <td>at</td>\n",
       "      <td>a</td>\n",
       "      <td>d</td>\n",
       "      <td>u</td>\n",
       "      <td>j</td>\n",
       "      <td>o</td>\n",
       "      <td>...</td>\n",
       "      <td>0</td>\n",
       "      <td>0</td>\n",
       "      <td>1</td>\n",
       "      <td>0</td>\n",
       "      <td>0</td>\n",
       "      <td>0</td>\n",
       "      <td>0</td>\n",
       "      <td>0</td>\n",
       "      <td>0</td>\n",
       "      <td>0</td>\n",
       "    </tr>\n",
       "    <tr>\n",
       "      <th>1</th>\n",
       "      <td>6</td>\n",
       "      <td>88.53</td>\n",
       "      <td>k</td>\n",
       "      <td>t</td>\n",
       "      <td>av</td>\n",
       "      <td>e</td>\n",
       "      <td>d</td>\n",
       "      <td>y</td>\n",
       "      <td>l</td>\n",
       "      <td>o</td>\n",
       "      <td>...</td>\n",
       "      <td>1</td>\n",
       "      <td>0</td>\n",
       "      <td>0</td>\n",
       "      <td>0</td>\n",
       "      <td>0</td>\n",
       "      <td>0</td>\n",
       "      <td>0</td>\n",
       "      <td>0</td>\n",
       "      <td>0</td>\n",
       "      <td>0</td>\n",
       "    </tr>\n",
       "    <tr>\n",
       "      <th>2</th>\n",
       "      <td>7</td>\n",
       "      <td>76.26</td>\n",
       "      <td>az</td>\n",
       "      <td>w</td>\n",
       "      <td>n</td>\n",
       "      <td>c</td>\n",
       "      <td>d</td>\n",
       "      <td>x</td>\n",
       "      <td>j</td>\n",
       "      <td>x</td>\n",
       "      <td>...</td>\n",
       "      <td>0</td>\n",
       "      <td>0</td>\n",
       "      <td>0</td>\n",
       "      <td>0</td>\n",
       "      <td>0</td>\n",
       "      <td>0</td>\n",
       "      <td>1</td>\n",
       "      <td>0</td>\n",
       "      <td>0</td>\n",
       "      <td>0</td>\n",
       "    </tr>\n",
       "    <tr>\n",
       "      <th>3</th>\n",
       "      <td>9</td>\n",
       "      <td>80.62</td>\n",
       "      <td>az</td>\n",
       "      <td>t</td>\n",
       "      <td>n</td>\n",
       "      <td>f</td>\n",
       "      <td>d</td>\n",
       "      <td>x</td>\n",
       "      <td>l</td>\n",
       "      <td>e</td>\n",
       "      <td>...</td>\n",
       "      <td>0</td>\n",
       "      <td>0</td>\n",
       "      <td>0</td>\n",
       "      <td>0</td>\n",
       "      <td>0</td>\n",
       "      <td>0</td>\n",
       "      <td>0</td>\n",
       "      <td>0</td>\n",
       "      <td>0</td>\n",
       "      <td>0</td>\n",
       "    </tr>\n",
       "    <tr>\n",
       "      <th>4</th>\n",
       "      <td>13</td>\n",
       "      <td>78.02</td>\n",
       "      <td>az</td>\n",
       "      <td>v</td>\n",
       "      <td>n</td>\n",
       "      <td>f</td>\n",
       "      <td>d</td>\n",
       "      <td>h</td>\n",
       "      <td>d</td>\n",
       "      <td>n</td>\n",
       "      <td>...</td>\n",
       "      <td>0</td>\n",
       "      <td>0</td>\n",
       "      <td>0</td>\n",
       "      <td>0</td>\n",
       "      <td>0</td>\n",
       "      <td>0</td>\n",
       "      <td>0</td>\n",
       "      <td>0</td>\n",
       "      <td>0</td>\n",
       "      <td>0</td>\n",
       "    </tr>\n",
       "  </tbody>\n",
       "</table>\n",
       "<p>5 rows × 378 columns</p>\n",
       "</div>"
      ],
      "text/plain": [
       "   ID       y  X0 X1  X2 X3 X4 X5 X6 X8  ...   X375  X376  X377  X378  X379  \\\n",
       "0   0  130.81   k  v  at  a  d  u  j  o  ...      0     0     1     0     0   \n",
       "1   6   88.53   k  t  av  e  d  y  l  o  ...      1     0     0     0     0   \n",
       "2   7   76.26  az  w   n  c  d  x  j  x  ...      0     0     0     0     0   \n",
       "3   9   80.62  az  t   n  f  d  x  l  e  ...      0     0     0     0     0   \n",
       "4  13   78.02  az  v   n  f  d  h  d  n  ...      0     0     0     0     0   \n",
       "\n",
       "   X380  X382  X383  X384  X385  \n",
       "0     0     0     0     0     0  \n",
       "1     0     0     0     0     0  \n",
       "2     0     1     0     0     0  \n",
       "3     0     0     0     0     0  \n",
       "4     0     0     0     0     0  \n",
       "\n",
       "[5 rows x 378 columns]"
      ]
     },
     "execution_count": 26,
     "metadata": {},
     "output_type": "execute_result"
    }
   ],
   "source": [
    "train_df.head()"
   ]
  },
  {
   "cell_type": "code",
   "execution_count": 30,
   "metadata": {
    "collapsed": false
   },
   "outputs": [],
   "source": [
    "from statsmodels.formula.api import ols\n",
    "model = ols(\"y ~ X0 + X1 + X2 + X3\", train_df).fit()"
   ]
  },
  {
   "cell_type": "code",
   "execution_count": 31,
   "metadata": {
    "collapsed": false
   },
   "outputs": [
    {
     "data": {
      "text/html": [
       "<table class=\"simpletable\">\n",
       "<caption>OLS Regression Results</caption>\n",
       "<tr>\n",
       "  <th>Dep. Variable:</th>            <td>y</td>        <th>  R-squared:         </th> <td>   0.583</td> \n",
       "</tr>\n",
       "<tr>\n",
       "  <th>Model:</th>                   <td>OLS</td>       <th>  Adj. R-squared:    </th> <td>   0.571</td> \n",
       "</tr>\n",
       "<tr>\n",
       "  <th>Method:</th>             <td>Least Squares</td>  <th>  F-statistic:       </th> <td>   47.72</td> \n",
       "</tr>\n",
       "<tr>\n",
       "  <th>Date:</th>             <td>Fri, 09 Jun 2017</td> <th>  Prob (F-statistic):</th>  <td>  0.00</td>  \n",
       "</tr>\n",
       "<tr>\n",
       "  <th>Time:</th>                 <td>12:21:18</td>     <th>  Log-Likelihood:    </th> <td> -14820.</td> \n",
       "</tr>\n",
       "<tr>\n",
       "  <th>No. Observations:</th>      <td>  4209</td>      <th>  AIC:               </th> <td>2.988e+04</td>\n",
       "</tr>\n",
       "<tr>\n",
       "  <th>Df Residuals:</th>          <td>  4088</td>      <th>  BIC:               </th> <td>3.065e+04</td>\n",
       "</tr>\n",
       "<tr>\n",
       "  <th>Df Model:</th>              <td>   120</td>      <th>                     </th>     <td> </td>    \n",
       "</tr>\n",
       "<tr>\n",
       "  <th>Covariance Type:</th>      <td>nonrobust</td>    <th>                     </th>     <td> </td>    \n",
       "</tr>\n",
       "</table>\n",
       "<table class=\"simpletable\">\n",
       "<tr>\n",
       "      <td></td>         <th>coef</th>     <th>std err</th>      <th>t</th>      <th>P>|t|</th> <th>[95.0% Conf. Int.]</th> \n",
       "</tr>\n",
       "<tr>\n",
       "  <th>Intercept</th> <td>  115.7298</td> <td>    4.848</td> <td>   23.873</td> <td> 0.000</td> <td>  106.226   125.234</td>\n",
       "</tr>\n",
       "<tr>\n",
       "  <th>X0[T.aa]</th>  <td>   35.5419</td> <td>    7.528</td> <td>    4.721</td> <td> 0.000</td> <td>   20.782    50.302</td>\n",
       "</tr>\n",
       "<tr>\n",
       "  <th>X0[T.ab]</th>  <td>   10.3496</td> <td>    9.944</td> <td>    1.041</td> <td> 0.298</td> <td>   -9.147    29.846</td>\n",
       "</tr>\n",
       "<tr>\n",
       "  <th>X0[T.ac]</th>  <td>  -10.6837</td> <td>    9.900</td> <td>   -1.079</td> <td> 0.281</td> <td>  -30.092     8.725</td>\n",
       "</tr>\n",
       "<tr>\n",
       "  <th>X0[T.ad]</th>  <td>  -22.7332</td> <td>    5.181</td> <td>   -4.387</td> <td> 0.000</td> <td>  -32.892   -12.575</td>\n",
       "</tr>\n",
       "<tr>\n",
       "  <th>X0[T.af]</th>  <td>   -2.6687</td> <td>    4.903</td> <td>   -0.544</td> <td> 0.586</td> <td>  -12.282     6.944</td>\n",
       "</tr>\n",
       "<tr>\n",
       "  <th>X0[T.ai]</th>  <td>  -20.8504</td> <td>    4.847</td> <td>   -4.302</td> <td> 0.000</td> <td>  -30.353   -11.348</td>\n",
       "</tr>\n",
       "<tr>\n",
       "  <th>X0[T.aj]</th>  <td>  -12.1106</td> <td>    4.714</td> <td>   -2.569</td> <td> 0.010</td> <td>  -21.353    -2.869</td>\n",
       "</tr>\n",
       "<tr>\n",
       "  <th>X0[T.ak]</th>  <td>   -3.4967</td> <td>    4.688</td> <td>   -0.746</td> <td> 0.456</td> <td>  -12.688     5.694</td>\n",
       "</tr>\n",
       "<tr>\n",
       "  <th>X0[T.al]</th>  <td>  -23.3290</td> <td>    4.766</td> <td>   -4.894</td> <td> 0.000</td> <td>  -32.674   -13.984</td>\n",
       "</tr>\n",
       "<tr>\n",
       "  <th>X0[T.am]</th>  <td>  -25.5264</td> <td>    5.037</td> <td>   -5.068</td> <td> 0.000</td> <td>  -35.402   -15.651</td>\n",
       "</tr>\n",
       "<tr>\n",
       "  <th>X0[T.ao]</th>  <td>  -10.6098</td> <td>    6.283</td> <td>   -1.689</td> <td> 0.091</td> <td>  -22.927     1.707</td>\n",
       "</tr>\n",
       "<tr>\n",
       "  <th>X0[T.ap]</th>  <td>    5.4116</td> <td>    5.064</td> <td>    1.069</td> <td> 0.285</td> <td>   -4.516    15.339</td>\n",
       "</tr>\n",
       "<tr>\n",
       "  <th>X0[T.aq]</th>  <td>  -21.8354</td> <td>    5.076</td> <td>   -4.302</td> <td> 0.000</td> <td>  -31.787   -11.884</td>\n",
       "</tr>\n",
       "<tr>\n",
       "  <th>X0[T.as]</th>  <td>    1.0696</td> <td>    5.462</td> <td>    0.196</td> <td> 0.845</td> <td>   -9.639    11.778</td>\n",
       "</tr>\n",
       "<tr>\n",
       "  <th>X0[T.at]</th>  <td>   -2.1994</td> <td>    4.924</td> <td>   -0.447</td> <td> 0.655</td> <td>  -11.853     7.454</td>\n",
       "</tr>\n",
       "<tr>\n",
       "  <th>X0[T.au]</th>  <td>    0.2101</td> <td>    5.339</td> <td>    0.039</td> <td> 0.969</td> <td>  -10.257    10.677</td>\n",
       "</tr>\n",
       "<tr>\n",
       "  <th>X0[T.aw]</th>  <td>  -12.6764</td> <td>    5.116</td> <td>   -2.478</td> <td> 0.013</td> <td>  -22.706    -2.647</td>\n",
       "</tr>\n",
       "<tr>\n",
       "  <th>X0[T.ax]</th>  <td>   -4.4380</td> <td>    5.045</td> <td>   -0.880</td> <td> 0.379</td> <td>  -14.328     5.452</td>\n",
       "</tr>\n",
       "<tr>\n",
       "  <th>X0[T.ay]</th>  <td>  -13.1049</td> <td>    4.636</td> <td>   -2.827</td> <td> 0.005</td> <td>  -22.194    -4.015</td>\n",
       "</tr>\n",
       "<tr>\n",
       "  <th>X0[T.az]</th>  <td>  -38.2033</td> <td>    4.787</td> <td>   -7.981</td> <td> 0.000</td> <td>  -47.588   -28.819</td>\n",
       "</tr>\n",
       "<tr>\n",
       "  <th>X0[T.b]</th>   <td>  -23.9653</td> <td>    5.268</td> <td>   -4.550</td> <td> 0.000</td> <td>  -34.293   -13.638</td>\n",
       "</tr>\n",
       "<tr>\n",
       "  <th>X0[T.ba]</th>  <td>  -22.0106</td> <td>    4.899</td> <td>   -4.493</td> <td> 0.000</td> <td>  -31.615   -12.406</td>\n",
       "</tr>\n",
       "<tr>\n",
       "  <th>X0[T.bc]</th>  <td>  -29.7838</td> <td>    5.343</td> <td>   -5.574</td> <td> 0.000</td> <td>  -40.259   -19.308</td>\n",
       "</tr>\n",
       "<tr>\n",
       "  <th>X0[T.c]</th>   <td>   -5.3465</td> <td>    6.790</td> <td>   -0.787</td> <td> 0.431</td> <td>  -18.658     7.965</td>\n",
       "</tr>\n",
       "<tr>\n",
       "  <th>X0[T.d]</th>   <td>  -13.8276</td> <td>    4.725</td> <td>   -2.927</td> <td> 0.003</td> <td>  -23.090    -4.565</td>\n",
       "</tr>\n",
       "<tr>\n",
       "  <th>X0[T.e]</th>   <td>  -23.0145</td> <td>    4.894</td> <td>   -4.702</td> <td> 0.000</td> <td>  -32.610   -13.419</td>\n",
       "</tr>\n",
       "<tr>\n",
       "  <th>X0[T.f]</th>   <td>  -22.2956</td> <td>    4.705</td> <td>   -4.738</td> <td> 0.000</td> <td>  -31.520   -13.071</td>\n",
       "</tr>\n",
       "<tr>\n",
       "  <th>X0[T.g]</th>   <td>    4.9453</td> <td>   10.426</td> <td>    0.474</td> <td> 0.635</td> <td>  -15.495    25.386</td>\n",
       "</tr>\n",
       "<tr>\n",
       "  <th>X0[T.h]</th>   <td>  -12.4564</td> <td>    4.733</td> <td>   -2.632</td> <td> 0.009</td> <td>  -21.736    -3.177</td>\n",
       "</tr>\n",
       "<tr>\n",
       "  <th>X0[T.i]</th>   <td>   -5.6864</td> <td>    5.073</td> <td>   -1.121</td> <td> 0.262</td> <td>  -15.632     4.259</td>\n",
       "</tr>\n",
       "<tr>\n",
       "  <th>X0[T.j]</th>   <td>   -4.2282</td> <td>    4.551</td> <td>   -0.929</td> <td> 0.353</td> <td>  -13.151     4.694</td>\n",
       "</tr>\n",
       "<tr>\n",
       "  <th>X0[T.k]</th>   <td>  -10.9851</td> <td>    4.810</td> <td>   -2.284</td> <td> 0.022</td> <td>  -20.414    -1.556</td>\n",
       "</tr>\n",
       "<tr>\n",
       "  <th>X0[T.l]</th>   <td>  -25.1404</td> <td>    5.114</td> <td>   -4.916</td> <td> 0.000</td> <td>  -35.166   -15.115</td>\n",
       "</tr>\n",
       "<tr>\n",
       "  <th>X0[T.m]</th>   <td>  -21.2200</td> <td>    4.886</td> <td>   -4.343</td> <td> 0.000</td> <td>  -30.799   -11.641</td>\n",
       "</tr>\n",
       "<tr>\n",
       "  <th>X0[T.n]</th>   <td>  -22.9011</td> <td>    4.700</td> <td>   -4.873</td> <td> 0.000</td> <td>  -32.116   -13.687</td>\n",
       "</tr>\n",
       "<tr>\n",
       "  <th>X0[T.o]</th>   <td>  -21.5751</td> <td>    4.694</td> <td>   -4.596</td> <td> 0.000</td> <td>  -30.778   -12.372</td>\n",
       "</tr>\n",
       "<tr>\n",
       "  <th>X0[T.q]</th>   <td>  -10.5059</td> <td>    6.714</td> <td>   -1.565</td> <td> 0.118</td> <td>  -23.670     2.658</td>\n",
       "</tr>\n",
       "<tr>\n",
       "  <th>X0[T.r]</th>   <td>   -1.7498</td> <td>    5.396</td> <td>   -0.324</td> <td> 0.746</td> <td>  -12.329     8.830</td>\n",
       "</tr>\n",
       "<tr>\n",
       "  <th>X0[T.s]</th>   <td>  -22.3450</td> <td>    4.691</td> <td>   -4.764</td> <td> 0.000</td> <td>  -31.541   -13.149</td>\n",
       "</tr>\n",
       "<tr>\n",
       "  <th>X0[T.t]</th>   <td>  -22.8019</td> <td>    4.649</td> <td>   -4.904</td> <td> 0.000</td> <td>  -31.917   -13.687</td>\n",
       "</tr>\n",
       "<tr>\n",
       "  <th>X0[T.u]</th>   <td>  -21.7408</td> <td>    5.081</td> <td>   -4.279</td> <td> 0.000</td> <td>  -31.702   -11.780</td>\n",
       "</tr>\n",
       "<tr>\n",
       "  <th>X0[T.v]</th>   <td>  -10.5334</td> <td>    4.879</td> <td>   -2.159</td> <td> 0.031</td> <td>  -20.099    -0.968</td>\n",
       "</tr>\n",
       "<tr>\n",
       "  <th>X0[T.w]</th>   <td>   -2.8192</td> <td>    4.710</td> <td>   -0.599</td> <td> 0.550</td> <td>  -12.053     6.415</td>\n",
       "</tr>\n",
       "<tr>\n",
       "  <th>X0[T.x]</th>   <td>   -3.7078</td> <td>    4.639</td> <td>   -0.799</td> <td> 0.424</td> <td>  -12.804     5.388</td>\n",
       "</tr>\n",
       "<tr>\n",
       "  <th>X0[T.y]</th>   <td>  -22.2289</td> <td>    4.649</td> <td>   -4.781</td> <td> 0.000</td> <td>  -31.344   -13.114</td>\n",
       "</tr>\n",
       "<tr>\n",
       "  <th>X0[T.z]</th>   <td>  -20.8117</td> <td>    4.640</td> <td>   -4.485</td> <td> 0.000</td> <td>  -29.909   -11.714</td>\n",
       "</tr>\n",
       "<tr>\n",
       "  <th>X1[T.aa]</th>  <td>   -0.7873</td> <td>    1.108</td> <td>   -0.711</td> <td> 0.477</td> <td>   -2.959     1.384</td>\n",
       "</tr>\n",
       "<tr>\n",
       "  <th>X1[T.ab]</th>  <td>   -2.5305</td> <td>    4.943</td> <td>   -0.512</td> <td> 0.609</td> <td>  -12.221     7.160</td>\n",
       "</tr>\n",
       "<tr>\n",
       "  <th>X1[T.b]</th>   <td>    0.0181</td> <td>    1.124</td> <td>    0.016</td> <td> 0.987</td> <td>   -2.185     2.221</td>\n",
       "</tr>\n",
       "<tr>\n",
       "  <th>X1[T.c]</th>   <td>   -0.6635</td> <td>    1.377</td> <td>   -0.482</td> <td> 0.630</td> <td>   -3.364     2.037</td>\n",
       "</tr>\n",
       "<tr>\n",
       "  <th>X1[T.d]</th>   <td>    0.5356</td> <td>    4.871</td> <td>    0.110</td> <td> 0.912</td> <td>   -9.015    10.086</td>\n",
       "</tr>\n",
       "<tr>\n",
       "  <th>X1[T.e]</th>   <td>   -1.7593</td> <td>    1.881</td> <td>   -0.936</td> <td> 0.350</td> <td>   -5.446     1.928</td>\n",
       "</tr>\n",
       "<tr>\n",
       "  <th>X1[T.f]</th>   <td>    2.6020</td> <td>    2.145</td> <td>    1.213</td> <td> 0.225</td> <td>   -1.602     6.806</td>\n",
       "</tr>\n",
       "<tr>\n",
       "  <th>X1[T.g]</th>   <td>   -2.8599</td> <td>    3.597</td> <td>   -0.795</td> <td> 0.427</td> <td>   -9.911     4.191</td>\n",
       "</tr>\n",
       "<tr>\n",
       "  <th>X1[T.h]</th>   <td>    1.4346</td> <td>    1.819</td> <td>    0.789</td> <td> 0.430</td> <td>   -2.131     5.001</td>\n",
       "</tr>\n",
       "<tr>\n",
       "  <th>X1[T.i]</th>   <td>   -0.0341</td> <td>    1.263</td> <td>   -0.027</td> <td> 0.978</td> <td>   -2.511     2.442</td>\n",
       "</tr>\n",
       "<tr>\n",
       "  <th>X1[T.j]</th>   <td>   -1.9877</td> <td>    2.093</td> <td>   -0.949</td> <td> 0.342</td> <td>   -6.092     2.117</td>\n",
       "</tr>\n",
       "<tr>\n",
       "  <th>X1[T.k]</th>   <td>   -2.4858</td> <td>    2.404</td> <td>   -1.034</td> <td> 0.301</td> <td>   -7.199     2.227</td>\n",
       "</tr>\n",
       "<tr>\n",
       "  <th>X1[T.l]</th>   <td>   -0.5557</td> <td>    1.037</td> <td>   -0.536</td> <td> 0.592</td> <td>   -2.588     1.477</td>\n",
       "</tr>\n",
       "<tr>\n",
       "  <th>X1[T.m]</th>   <td>   -1.8645</td> <td>    1.821</td> <td>   -1.024</td> <td> 0.306</td> <td>   -5.435     1.706</td>\n",
       "</tr>\n",
       "<tr>\n",
       "  <th>X1[T.n]</th>   <td>    1.8818</td> <td>    2.193</td> <td>    0.858</td> <td> 0.391</td> <td>   -2.418     6.181</td>\n",
       "</tr>\n",
       "<tr>\n",
       "  <th>X1[T.o]</th>   <td>   -0.5310</td> <td>    1.327</td> <td>   -0.400</td> <td> 0.689</td> <td>   -3.132     2.070</td>\n",
       "</tr>\n",
       "<tr>\n",
       "  <th>X1[T.p]</th>   <td>   -3.8729</td> <td>    3.008</td> <td>   -1.287</td> <td> 0.198</td> <td>   -9.771     2.025</td>\n",
       "</tr>\n",
       "<tr>\n",
       "  <th>X1[T.q]</th>   <td>   -4.2326</td> <td>    5.009</td> <td>   -0.845</td> <td> 0.398</td> <td>  -14.053     5.588</td>\n",
       "</tr>\n",
       "<tr>\n",
       "  <th>X1[T.r]</th>   <td>    0.9459</td> <td>    1.039</td> <td>    0.910</td> <td> 0.363</td> <td>   -1.091     2.983</td>\n",
       "</tr>\n",
       "<tr>\n",
       "  <th>X1[T.s]</th>   <td>   -0.8540</td> <td>    1.196</td> <td>   -0.714</td> <td> 0.475</td> <td>   -3.198     1.490</td>\n",
       "</tr>\n",
       "<tr>\n",
       "  <th>X1[T.t]</th>   <td>   -2.9372</td> <td>    1.857</td> <td>   -1.581</td> <td> 0.114</td> <td>   -6.579     0.704</td>\n",
       "</tr>\n",
       "<tr>\n",
       "  <th>X1[T.u]</th>   <td>   -2.7934</td> <td>    1.783</td> <td>   -1.567</td> <td> 0.117</td> <td>   -6.289     0.703</td>\n",
       "</tr>\n",
       "<tr>\n",
       "  <th>X1[T.v]</th>   <td>   -0.9098</td> <td>    1.046</td> <td>   -0.870</td> <td> 0.384</td> <td>   -2.961     1.141</td>\n",
       "</tr>\n",
       "<tr>\n",
       "  <th>X1[T.w]</th>   <td>   -1.2906</td> <td>    1.498</td> <td>   -0.862</td> <td> 0.389</td> <td>   -4.227     1.645</td>\n",
       "</tr>\n",
       "<tr>\n",
       "  <th>X1[T.y]</th>   <td>   -0.6459</td> <td>    2.457</td> <td>   -0.263</td> <td> 0.793</td> <td>   -5.464     4.172</td>\n",
       "</tr>\n",
       "<tr>\n",
       "  <th>X1[T.z]</th>   <td>   -1.7975</td> <td>    1.642</td> <td>   -1.094</td> <td> 0.274</td> <td>   -5.018     1.422</td>\n",
       "</tr>\n",
       "<tr>\n",
       "  <th>X2[T.aa]</th>  <td>   29.7321</td> <td>    8.835</td> <td>    3.365</td> <td> 0.001</td> <td>   12.412    47.053</td>\n",
       "</tr>\n",
       "<tr>\n",
       "  <th>X2[T.ac]</th>  <td>   -9.4615</td> <td>    4.434</td> <td>   -2.134</td> <td> 0.033</td> <td>  -18.154    -0.769</td>\n",
       "</tr>\n",
       "<tr>\n",
       "  <th>X2[T.ae]</th>  <td>    0.8591</td> <td>    1.422</td> <td>    0.604</td> <td> 0.546</td> <td>   -1.928     3.647</td>\n",
       "</tr>\n",
       "<tr>\n",
       "  <th>X2[T.af]</th>  <td>    7.6818</td> <td>    8.440</td> <td>    0.910</td> <td> 0.363</td> <td>   -8.865    24.229</td>\n",
       "</tr>\n",
       "<tr>\n",
       "  <th>X2[T.ag]</th>  <td>   -3.8565</td> <td>    2.379</td> <td>   -1.621</td> <td> 0.105</td> <td>   -8.521     0.808</td>\n",
       "</tr>\n",
       "<tr>\n",
       "  <th>X2[T.ah]</th>  <td>    2.4348</td> <td>    4.413</td> <td>    0.552</td> <td> 0.581</td> <td>   -6.217    11.086</td>\n",
       "</tr>\n",
       "<tr>\n",
       "  <th>X2[T.ai]</th>  <td>    0.1279</td> <td>    1.425</td> <td>    0.090</td> <td> 0.928</td> <td>   -2.667     2.923</td>\n",
       "</tr>\n",
       "<tr>\n",
       "  <th>X2[T.ak]</th>  <td>    1.1373</td> <td>    1.498</td> <td>    0.759</td> <td> 0.448</td> <td>   -1.799     4.074</td>\n",
       "</tr>\n",
       "<tr>\n",
       "  <th>X2[T.al]</th>  <td>   -5.3839</td> <td>    6.329</td> <td>   -0.851</td> <td> 0.395</td> <td>  -17.793     7.025</td>\n",
       "</tr>\n",
       "<tr>\n",
       "  <th>X2[T.am]</th>  <td>   10.6654</td> <td>    8.438</td> <td>    1.264</td> <td> 0.206</td> <td>   -5.877    27.208</td>\n",
       "</tr>\n",
       "<tr>\n",
       "  <th>X2[T.an]</th>  <td>    2.9591</td> <td>    3.988</td> <td>    0.742</td> <td> 0.458</td> <td>   -4.860    10.778</td>\n",
       "</tr>\n",
       "<tr>\n",
       "  <th>X2[T.ao]</th>  <td>    1.8873</td> <td>    2.356</td> <td>    0.801</td> <td> 0.423</td> <td>   -2.732     6.506</td>\n",
       "</tr>\n",
       "<tr>\n",
       "  <th>X2[T.ap]</th>  <td>    0.6985</td> <td>    2.919</td> <td>    0.239</td> <td> 0.811</td> <td>   -5.025     6.422</td>\n",
       "</tr>\n",
       "<tr>\n",
       "  <th>X2[T.aq]</th>  <td>    0.0252</td> <td>    1.732</td> <td>    0.015</td> <td> 0.988</td> <td>   -3.371     3.421</td>\n",
       "</tr>\n",
       "<tr>\n",
       "  <th>X2[T.ar]</th>  <td>   17.8764</td> <td>    8.643</td> <td>    2.068</td> <td> 0.039</td> <td>    0.931    34.822</td>\n",
       "</tr>\n",
       "<tr>\n",
       "  <th>X2[T.as]</th>  <td>    0.7490</td> <td>    1.383</td> <td>    0.542</td> <td> 0.588</td> <td>   -1.962     3.460</td>\n",
       "</tr>\n",
       "<tr>\n",
       "  <th>X2[T.at]</th>  <td>    0.7196</td> <td>    5.910</td> <td>    0.122</td> <td> 0.903</td> <td>  -10.867    12.306</td>\n",
       "</tr>\n",
       "<tr>\n",
       "  <th>X2[T.au]</th>  <td>   -9.8715</td> <td>    7.162</td> <td>   -1.378</td> <td> 0.168</td> <td>  -23.912     4.170</td>\n",
       "</tr>\n",
       "<tr>\n",
       "  <th>X2[T.av]</th>  <td>  -13.0987</td> <td>    6.435</td> <td>   -2.036</td> <td> 0.042</td> <td>  -25.714    -0.483</td>\n",
       "</tr>\n",
       "<tr>\n",
       "  <th>X2[T.aw]</th>  <td>   -2.4411</td> <td>    3.264</td> <td>   -0.748</td> <td> 0.455</td> <td>   -8.841     3.958</td>\n",
       "</tr>\n",
       "<tr>\n",
       "  <th>X2[T.ay]</th>  <td>    0.3367</td> <td>    1.799</td> <td>    0.187</td> <td> 0.851</td> <td>   -3.190     3.863</td>\n",
       "</tr>\n",
       "<tr>\n",
       "  <th>X2[T.b]</th>   <td>    0.8675</td> <td>    2.342</td> <td>    0.370</td> <td> 0.711</td> <td>   -3.724     5.460</td>\n",
       "</tr>\n",
       "<tr>\n",
       "  <th>X2[T.c]</th>   <td>   -4.3515</td> <td>    8.678</td> <td>   -0.501</td> <td> 0.616</td> <td>  -21.366    12.663</td>\n",
       "</tr>\n",
       "<tr>\n",
       "  <th>X2[T.d]</th>   <td>   -0.2235</td> <td>    2.439</td> <td>   -0.092</td> <td> 0.927</td> <td>   -5.006     4.559</td>\n",
       "</tr>\n",
       "<tr>\n",
       "  <th>X2[T.e]</th>   <td>   -0.0136</td> <td>    1.665</td> <td>   -0.008</td> <td> 0.993</td> <td>   -3.279     3.251</td>\n",
       "</tr>\n",
       "<tr>\n",
       "  <th>X2[T.f]</th>   <td>    0.2590</td> <td>    1.664</td> <td>    0.156</td> <td> 0.876</td> <td>   -3.003     3.521</td>\n",
       "</tr>\n",
       "<tr>\n",
       "  <th>X2[T.g]</th>   <td>    1.0086</td> <td>    2.802</td> <td>    0.360</td> <td> 0.719</td> <td>   -4.484     6.501</td>\n",
       "</tr>\n",
       "<tr>\n",
       "  <th>X2[T.h]</th>   <td>    2.8086</td> <td>    3.702</td> <td>    0.759</td> <td> 0.448</td> <td>   -4.450    10.067</td>\n",
       "</tr>\n",
       "<tr>\n",
       "  <th>X2[T.i]</th>   <td>    0.2531</td> <td>    2.190</td> <td>    0.116</td> <td> 0.908</td> <td>   -4.040     4.546</td>\n",
       "</tr>\n",
       "<tr>\n",
       "  <th>X2[T.j]</th>   <td>   -4.0172</td> <td>    8.445</td> <td>   -0.476</td> <td> 0.634</td> <td>  -20.573    12.539</td>\n",
       "</tr>\n",
       "<tr>\n",
       "  <th>X2[T.k]</th>   <td>    0.7037</td> <td>    4.426</td> <td>    0.159</td> <td> 0.874</td> <td>   -7.974     9.381</td>\n",
       "</tr>\n",
       "<tr>\n",
       "  <th>X2[T.l]</th>   <td>    1.2530</td> <td>    8.515</td> <td>    0.147</td> <td> 0.883</td> <td>  -15.442    17.948</td>\n",
       "</tr>\n",
       "<tr>\n",
       "  <th>X2[T.m]</th>   <td>    1.1039</td> <td>    1.434</td> <td>    0.770</td> <td> 0.441</td> <td>   -1.707     3.915</td>\n",
       "</tr>\n",
       "<tr>\n",
       "  <th>X2[T.n]</th>   <td>    0.7971</td> <td>    1.766</td> <td>    0.451</td> <td> 0.652</td> <td>   -2.665     4.259</td>\n",
       "</tr>\n",
       "<tr>\n",
       "  <th>X2[T.o]</th>   <td>   -4.2464</td> <td>    8.541</td> <td>   -0.497</td> <td> 0.619</td> <td>  -20.991    12.498</td>\n",
       "</tr>\n",
       "<tr>\n",
       "  <th>X2[T.p]</th>   <td>   -3.1409</td> <td>    4.447</td> <td>   -0.706</td> <td> 0.480</td> <td>  -11.859     5.577</td>\n",
       "</tr>\n",
       "<tr>\n",
       "  <th>X2[T.q]</th>   <td>    3.6398</td> <td>    3.992</td> <td>    0.912</td> <td> 0.362</td> <td>   -4.186    11.466</td>\n",
       "</tr>\n",
       "<tr>\n",
       "  <th>X2[T.r]</th>   <td>    0.9103</td> <td>    1.576</td> <td>    0.578</td> <td> 0.564</td> <td>   -2.179     4.000</td>\n",
       "</tr>\n",
       "<tr>\n",
       "  <th>X2[T.s]</th>   <td>   -4.1559</td> <td>    5.344</td> <td>   -0.778</td> <td> 0.437</td> <td>  -14.632     6.320</td>\n",
       "</tr>\n",
       "<tr>\n",
       "  <th>X2[T.t]</th>   <td>   -2.2662</td> <td>    2.138</td> <td>   -1.060</td> <td> 0.289</td> <td>   -6.457     1.925</td>\n",
       "</tr>\n",
       "<tr>\n",
       "  <th>X2[T.x]</th>   <td>    3.3427</td> <td>    3.029</td> <td>    1.103</td> <td> 0.270</td> <td>   -2.596     9.282</td>\n",
       "</tr>\n",
       "<tr>\n",
       "  <th>X2[T.y]</th>   <td>    1.5408</td> <td>    3.033</td> <td>    0.508</td> <td> 0.612</td> <td>   -4.406     7.488</td>\n",
       "</tr>\n",
       "<tr>\n",
       "  <th>X2[T.z]</th>   <td>   -2.1946</td> <td>    2.325</td> <td>   -0.944</td> <td> 0.345</td> <td>   -6.753     2.364</td>\n",
       "</tr>\n",
       "<tr>\n",
       "  <th>X3[T.b]</th>   <td>   -0.6747</td> <td>    1.403</td> <td>   -0.481</td> <td> 0.631</td> <td>   -3.426     2.076</td>\n",
       "</tr>\n",
       "<tr>\n",
       "  <th>X3[T.c]</th>   <td>    0.6099</td> <td>    0.466</td> <td>    1.309</td> <td> 0.191</td> <td>   -0.303     1.523</td>\n",
       "</tr>\n",
       "<tr>\n",
       "  <th>X3[T.d]</th>   <td>   -0.4033</td> <td>    0.733</td> <td>   -0.551</td> <td> 0.582</td> <td>   -1.840     1.033</td>\n",
       "</tr>\n",
       "<tr>\n",
       "  <th>X3[T.e]</th>   <td>    0.0830</td> <td>    0.816</td> <td>    0.102</td> <td> 0.919</td> <td>   -1.516     1.682</td>\n",
       "</tr>\n",
       "<tr>\n",
       "  <th>X3[T.f]</th>   <td>    0.4937</td> <td>    0.738</td> <td>    0.669</td> <td> 0.504</td> <td>   -0.954     1.941</td>\n",
       "</tr>\n",
       "<tr>\n",
       "  <th>X3[T.g]</th>   <td>   -0.5247</td> <td>    0.730</td> <td>   -0.719</td> <td> 0.472</td> <td>   -1.955     0.906</td>\n",
       "</tr>\n",
       "</table>\n",
       "<table class=\"simpletable\">\n",
       "<tr>\n",
       "  <th>Omnibus:</th>       <td>4096.048</td> <th>  Durbin-Watson:     </th>  <td>   1.974</td> \n",
       "</tr>\n",
       "<tr>\n",
       "  <th>Prob(Omnibus):</th>  <td> 0.000</td>  <th>  Jarque-Bera (JB):  </th> <td>494826.370</td>\n",
       "</tr>\n",
       "<tr>\n",
       "  <th>Skew:</th>           <td> 4.365</td>  <th>  Prob(JB):          </th>  <td>    0.00</td> \n",
       "</tr>\n",
       "<tr>\n",
       "  <th>Kurtosis:</th>       <td>55.396</td>  <th>  Cond. No.          </th>  <td>1.91e+15</td> \n",
       "</tr>\n",
       "</table>"
      ],
      "text/plain": [
       "<class 'statsmodels.iolib.summary.Summary'>\n",
       "\"\"\"\n",
       "                            OLS Regression Results                            \n",
       "==============================================================================\n",
       "Dep. Variable:                      y   R-squared:                       0.583\n",
       "Model:                            OLS   Adj. R-squared:                  0.571\n",
       "Method:                 Least Squares   F-statistic:                     47.72\n",
       "Date:                Fri, 09 Jun 2017   Prob (F-statistic):               0.00\n",
       "Time:                        12:21:18   Log-Likelihood:                -14820.\n",
       "No. Observations:                4209   AIC:                         2.988e+04\n",
       "Df Residuals:                    4088   BIC:                         3.065e+04\n",
       "Df Model:                         120                                         \n",
       "Covariance Type:            nonrobust                                         \n",
       "==============================================================================\n",
       "                 coef    std err          t      P>|t|      [95.0% Conf. Int.]\n",
       "------------------------------------------------------------------------------\n",
       "Intercept    115.7298      4.848     23.873      0.000       106.226   125.234\n",
       "X0[T.aa]      35.5419      7.528      4.721      0.000        20.782    50.302\n",
       "X0[T.ab]      10.3496      9.944      1.041      0.298        -9.147    29.846\n",
       "X0[T.ac]     -10.6837      9.900     -1.079      0.281       -30.092     8.725\n",
       "X0[T.ad]     -22.7332      5.181     -4.387      0.000       -32.892   -12.575\n",
       "X0[T.af]      -2.6687      4.903     -0.544      0.586       -12.282     6.944\n",
       "X0[T.ai]     -20.8504      4.847     -4.302      0.000       -30.353   -11.348\n",
       "X0[T.aj]     -12.1106      4.714     -2.569      0.010       -21.353    -2.869\n",
       "X0[T.ak]      -3.4967      4.688     -0.746      0.456       -12.688     5.694\n",
       "X0[T.al]     -23.3290      4.766     -4.894      0.000       -32.674   -13.984\n",
       "X0[T.am]     -25.5264      5.037     -5.068      0.000       -35.402   -15.651\n",
       "X0[T.ao]     -10.6098      6.283     -1.689      0.091       -22.927     1.707\n",
       "X0[T.ap]       5.4116      5.064      1.069      0.285        -4.516    15.339\n",
       "X0[T.aq]     -21.8354      5.076     -4.302      0.000       -31.787   -11.884\n",
       "X0[T.as]       1.0696      5.462      0.196      0.845        -9.639    11.778\n",
       "X0[T.at]      -2.1994      4.924     -0.447      0.655       -11.853     7.454\n",
       "X0[T.au]       0.2101      5.339      0.039      0.969       -10.257    10.677\n",
       "X0[T.aw]     -12.6764      5.116     -2.478      0.013       -22.706    -2.647\n",
       "X0[T.ax]      -4.4380      5.045     -0.880      0.379       -14.328     5.452\n",
       "X0[T.ay]     -13.1049      4.636     -2.827      0.005       -22.194    -4.015\n",
       "X0[T.az]     -38.2033      4.787     -7.981      0.000       -47.588   -28.819\n",
       "X0[T.b]      -23.9653      5.268     -4.550      0.000       -34.293   -13.638\n",
       "X0[T.ba]     -22.0106      4.899     -4.493      0.000       -31.615   -12.406\n",
       "X0[T.bc]     -29.7838      5.343     -5.574      0.000       -40.259   -19.308\n",
       "X0[T.c]       -5.3465      6.790     -0.787      0.431       -18.658     7.965\n",
       "X0[T.d]      -13.8276      4.725     -2.927      0.003       -23.090    -4.565\n",
       "X0[T.e]      -23.0145      4.894     -4.702      0.000       -32.610   -13.419\n",
       "X0[T.f]      -22.2956      4.705     -4.738      0.000       -31.520   -13.071\n",
       "X0[T.g]        4.9453     10.426      0.474      0.635       -15.495    25.386\n",
       "X0[T.h]      -12.4564      4.733     -2.632      0.009       -21.736    -3.177\n",
       "X0[T.i]       -5.6864      5.073     -1.121      0.262       -15.632     4.259\n",
       "X0[T.j]       -4.2282      4.551     -0.929      0.353       -13.151     4.694\n",
       "X0[T.k]      -10.9851      4.810     -2.284      0.022       -20.414    -1.556\n",
       "X0[T.l]      -25.1404      5.114     -4.916      0.000       -35.166   -15.115\n",
       "X0[T.m]      -21.2200      4.886     -4.343      0.000       -30.799   -11.641\n",
       "X0[T.n]      -22.9011      4.700     -4.873      0.000       -32.116   -13.687\n",
       "X0[T.o]      -21.5751      4.694     -4.596      0.000       -30.778   -12.372\n",
       "X0[T.q]      -10.5059      6.714     -1.565      0.118       -23.670     2.658\n",
       "X0[T.r]       -1.7498      5.396     -0.324      0.746       -12.329     8.830\n",
       "X0[T.s]      -22.3450      4.691     -4.764      0.000       -31.541   -13.149\n",
       "X0[T.t]      -22.8019      4.649     -4.904      0.000       -31.917   -13.687\n",
       "X0[T.u]      -21.7408      5.081     -4.279      0.000       -31.702   -11.780\n",
       "X0[T.v]      -10.5334      4.879     -2.159      0.031       -20.099    -0.968\n",
       "X0[T.w]       -2.8192      4.710     -0.599      0.550       -12.053     6.415\n",
       "X0[T.x]       -3.7078      4.639     -0.799      0.424       -12.804     5.388\n",
       "X0[T.y]      -22.2289      4.649     -4.781      0.000       -31.344   -13.114\n",
       "X0[T.z]      -20.8117      4.640     -4.485      0.000       -29.909   -11.714\n",
       "X1[T.aa]      -0.7873      1.108     -0.711      0.477        -2.959     1.384\n",
       "X1[T.ab]      -2.5305      4.943     -0.512      0.609       -12.221     7.160\n",
       "X1[T.b]        0.0181      1.124      0.016      0.987        -2.185     2.221\n",
       "X1[T.c]       -0.6635      1.377     -0.482      0.630        -3.364     2.037\n",
       "X1[T.d]        0.5356      4.871      0.110      0.912        -9.015    10.086\n",
       "X1[T.e]       -1.7593      1.881     -0.936      0.350        -5.446     1.928\n",
       "X1[T.f]        2.6020      2.145      1.213      0.225        -1.602     6.806\n",
       "X1[T.g]       -2.8599      3.597     -0.795      0.427        -9.911     4.191\n",
       "X1[T.h]        1.4346      1.819      0.789      0.430        -2.131     5.001\n",
       "X1[T.i]       -0.0341      1.263     -0.027      0.978        -2.511     2.442\n",
       "X1[T.j]       -1.9877      2.093     -0.949      0.342        -6.092     2.117\n",
       "X1[T.k]       -2.4858      2.404     -1.034      0.301        -7.199     2.227\n",
       "X1[T.l]       -0.5557      1.037     -0.536      0.592        -2.588     1.477\n",
       "X1[T.m]       -1.8645      1.821     -1.024      0.306        -5.435     1.706\n",
       "X1[T.n]        1.8818      2.193      0.858      0.391        -2.418     6.181\n",
       "X1[T.o]       -0.5310      1.327     -0.400      0.689        -3.132     2.070\n",
       "X1[T.p]       -3.8729      3.008     -1.287      0.198        -9.771     2.025\n",
       "X1[T.q]       -4.2326      5.009     -0.845      0.398       -14.053     5.588\n",
       "X1[T.r]        0.9459      1.039      0.910      0.363        -1.091     2.983\n",
       "X1[T.s]       -0.8540      1.196     -0.714      0.475        -3.198     1.490\n",
       "X1[T.t]       -2.9372      1.857     -1.581      0.114        -6.579     0.704\n",
       "X1[T.u]       -2.7934      1.783     -1.567      0.117        -6.289     0.703\n",
       "X1[T.v]       -0.9098      1.046     -0.870      0.384        -2.961     1.141\n",
       "X1[T.w]       -1.2906      1.498     -0.862      0.389        -4.227     1.645\n",
       "X1[T.y]       -0.6459      2.457     -0.263      0.793        -5.464     4.172\n",
       "X1[T.z]       -1.7975      1.642     -1.094      0.274        -5.018     1.422\n",
       "X2[T.aa]      29.7321      8.835      3.365      0.001        12.412    47.053\n",
       "X2[T.ac]      -9.4615      4.434     -2.134      0.033       -18.154    -0.769\n",
       "X2[T.ae]       0.8591      1.422      0.604      0.546        -1.928     3.647\n",
       "X2[T.af]       7.6818      8.440      0.910      0.363        -8.865    24.229\n",
       "X2[T.ag]      -3.8565      2.379     -1.621      0.105        -8.521     0.808\n",
       "X2[T.ah]       2.4348      4.413      0.552      0.581        -6.217    11.086\n",
       "X2[T.ai]       0.1279      1.425      0.090      0.928        -2.667     2.923\n",
       "X2[T.ak]       1.1373      1.498      0.759      0.448        -1.799     4.074\n",
       "X2[T.al]      -5.3839      6.329     -0.851      0.395       -17.793     7.025\n",
       "X2[T.am]      10.6654      8.438      1.264      0.206        -5.877    27.208\n",
       "X2[T.an]       2.9591      3.988      0.742      0.458        -4.860    10.778\n",
       "X2[T.ao]       1.8873      2.356      0.801      0.423        -2.732     6.506\n",
       "X2[T.ap]       0.6985      2.919      0.239      0.811        -5.025     6.422\n",
       "X2[T.aq]       0.0252      1.732      0.015      0.988        -3.371     3.421\n",
       "X2[T.ar]      17.8764      8.643      2.068      0.039         0.931    34.822\n",
       "X2[T.as]       0.7490      1.383      0.542      0.588        -1.962     3.460\n",
       "X2[T.at]       0.7196      5.910      0.122      0.903       -10.867    12.306\n",
       "X2[T.au]      -9.8715      7.162     -1.378      0.168       -23.912     4.170\n",
       "X2[T.av]     -13.0987      6.435     -2.036      0.042       -25.714    -0.483\n",
       "X2[T.aw]      -2.4411      3.264     -0.748      0.455        -8.841     3.958\n",
       "X2[T.ay]       0.3367      1.799      0.187      0.851        -3.190     3.863\n",
       "X2[T.b]        0.8675      2.342      0.370      0.711        -3.724     5.460\n",
       "X2[T.c]       -4.3515      8.678     -0.501      0.616       -21.366    12.663\n",
       "X2[T.d]       -0.2235      2.439     -0.092      0.927        -5.006     4.559\n",
       "X2[T.e]       -0.0136      1.665     -0.008      0.993        -3.279     3.251\n",
       "X2[T.f]        0.2590      1.664      0.156      0.876        -3.003     3.521\n",
       "X2[T.g]        1.0086      2.802      0.360      0.719        -4.484     6.501\n",
       "X2[T.h]        2.8086      3.702      0.759      0.448        -4.450    10.067\n",
       "X2[T.i]        0.2531      2.190      0.116      0.908        -4.040     4.546\n",
       "X2[T.j]       -4.0172      8.445     -0.476      0.634       -20.573    12.539\n",
       "X2[T.k]        0.7037      4.426      0.159      0.874        -7.974     9.381\n",
       "X2[T.l]        1.2530      8.515      0.147      0.883       -15.442    17.948\n",
       "X2[T.m]        1.1039      1.434      0.770      0.441        -1.707     3.915\n",
       "X2[T.n]        0.7971      1.766      0.451      0.652        -2.665     4.259\n",
       "X2[T.o]       -4.2464      8.541     -0.497      0.619       -20.991    12.498\n",
       "X2[T.p]       -3.1409      4.447     -0.706      0.480       -11.859     5.577\n",
       "X2[T.q]        3.6398      3.992      0.912      0.362        -4.186    11.466\n",
       "X2[T.r]        0.9103      1.576      0.578      0.564        -2.179     4.000\n",
       "X2[T.s]       -4.1559      5.344     -0.778      0.437       -14.632     6.320\n",
       "X2[T.t]       -2.2662      2.138     -1.060      0.289        -6.457     1.925\n",
       "X2[T.x]        3.3427      3.029      1.103      0.270        -2.596     9.282\n",
       "X2[T.y]        1.5408      3.033      0.508      0.612        -4.406     7.488\n",
       "X2[T.z]       -2.1946      2.325     -0.944      0.345        -6.753     2.364\n",
       "X3[T.b]       -0.6747      1.403     -0.481      0.631        -3.426     2.076\n",
       "X3[T.c]        0.6099      0.466      1.309      0.191        -0.303     1.523\n",
       "X3[T.d]       -0.4033      0.733     -0.551      0.582        -1.840     1.033\n",
       "X3[T.e]        0.0830      0.816      0.102      0.919        -1.516     1.682\n",
       "X3[T.f]        0.4937      0.738      0.669      0.504        -0.954     1.941\n",
       "X3[T.g]       -0.5247      0.730     -0.719      0.472        -1.955     0.906\n",
       "==============================================================================\n",
       "Omnibus:                     4096.048   Durbin-Watson:                   1.974\n",
       "Prob(Omnibus):                  0.000   Jarque-Bera (JB):           494826.370\n",
       "Skew:                           4.365   Prob(JB):                         0.00\n",
       "Kurtosis:                      55.396   Cond. No.                     1.91e+15\n",
       "==============================================================================\n",
       "\n",
       "Warnings:\n",
       "[1] Standard Errors assume that the covariance matrix of the errors is correctly specified.\n",
       "[2] The smallest eigenvalue is 1.96e-27. This might indicate that there are\n",
       "strong multicollinearity problems or that the design matrix is singular.\n",
       "\"\"\""
      ]
     },
     "execution_count": 31,
     "metadata": {},
     "output_type": "execute_result"
    }
   ],
   "source": [
    "model.summary()"
   ]
  },
  {
   "cell_type": "code",
   "execution_count": 32,
   "metadata": {
    "collapsed": true
   },
   "outputs": [],
   "source": [
    "import statsmodels"
   ]
  },
  {
   "cell_type": "code",
   "execution_count": 33,
   "metadata": {
    "collapsed": true
   },
   "outputs": [],
   "source": [
    "statsmodels?"
   ]
  },
  {
   "cell_type": "code",
   "execution_count": null,
   "metadata": {
    "collapsed": true
   },
   "outputs": [],
   "source": []
  }
 ],
 "metadata": {
  "kernelspec": {
   "display_name": "Python 2",
   "language": "python",
   "name": "python2"
  },
  "language_info": {
   "codemirror_mode": {
    "name": "ipython",
    "version": 2
   },
   "file_extension": ".py",
   "mimetype": "text/x-python",
   "name": "python",
   "nbconvert_exporter": "python",
   "pygments_lexer": "ipython2",
   "version": "2.7.13"
  }
 },
 "nbformat": 4,
 "nbformat_minor": 2
}
