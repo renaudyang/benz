{
 "cells": [
  {
   "cell_type": "markdown",
   "metadata": {},
   "source": [
    "# Note\n",
    "## Jun. 6\n",
    ">Status\n",
    "1. By now, the best regressor is simple LassoCV using CV = 5\n",
    "2. For categorical feature, use OneHot encoder.\n",
    "3. The features having unique values, are dropped.\n",
    "4. Try box-cox change of Y, but no imporvement.\n",
    "\n",
    ">TODO\n",
    "1. More work on feature engineering, try to reduce the dimension:\n",
    " + PCA\n",
    " + delete the dimensions with small variance"
   ]
  },
  {
   "cell_type": "code",
   "execution_count": 1,
   "metadata": {
    "collapsed": true
   },
   "outputs": [],
   "source": [
    "%matplotlib inline\n",
    "import numpy as np\n",
    "import pandas as pd\n",
    "import matplotlib.pyplot as plt\n",
    "import seaborn as sns"
   ]
  },
  {
   "cell_type": "code",
   "execution_count": 46,
   "metadata": {
    "collapsed": false
   },
   "outputs": [],
   "source": [
    "train_df = pd.read_csv('train.csv')\n",
    "train_y = train_df.y\n",
    "train_x = train_df.drop(['ID','y'],axis = 1)\n",
    "test_df = pd.read_csv('test.csv')\n",
    "test_x =  test_df.drop(['ID'],axis = 1)\n",
    "cat_cols = train_x.select_dtypes(['object']).columns"
   ]
  },
  {
   "cell_type": "markdown",
   "metadata": {},
   "source": [
    "# Compare training set and test set"
   ]
  },
  {
   "cell_type": "code",
   "execution_count": null,
   "metadata": {
    "collapsed": true
   },
   "outputs": [],
   "source": []
  },
  {
   "cell_type": "markdown",
   "metadata": {},
   "source": [
    "# Feature engineering\n",
    "## Issue: Categorical value of train and test are different\n",
    "+ Sol-1:  try to change the catogorical data in test set to values existant in training set. \n",
    "+ Sol-2: Use the mean of data"
   ]
  },
  {
   "cell_type": "code",
   "execution_count": 5,
   "metadata": {
    "collapsed": false,
    "scrolled": true
   },
   "outputs": [],
   "source": [
    "#for col in cat_cols:\n",
    "#    print col, set(test_df[col].unique()).difference(set(train_x[col].unique()))"
   ]
  },
  {
   "cell_type": "code",
   "execution_count": 6,
   "metadata": {
    "collapsed": true
   },
   "outputs": [],
   "source": [
    "#x0_tran = {'ae':'ad', 'ag':'af','bb':'ba','an':'am','p':'r','av':'aw'}\n",
    "#x2_tran = {'ab':'ac', 'ad':'ae', 'aj':'ai', 'u':'t', 'w':'x', 'ax':'ay'}\n",
    "#x5_tran = {'a':'aa', 'b':'c', 't':'r', 'z':'y'}\n",
    "\n",
    "#test_x['X0'] = map(lambda x: x0_tran[x] if x in x0_tran.keys() else x, test_x['X0'])\n",
    "#test_x['X2'] = map(lambda x: x2_tran[x] if x in x2_tran.keys() else x, test_x['X2'])\n",
    "#test_x['X5'] = map(lambda x: x5_tran[x] if x in x5_tran.keys() else x, test_x['X5'])"
   ]
  },
  {
   "cell_type": "code",
   "execution_count": null,
   "metadata": {
    "collapsed": true
   },
   "outputs": [],
   "source": [
    "def fill_missingOFtest(df):\n",
    "    df\n",
    "    "
   ]
  },
  {
   "cell_type": "markdown",
   "metadata": {},
   "source": [
    "## Encode the categorical data"
   ]
  },
  {
   "cell_type": "code",
   "execution_count": 47,
   "metadata": {
    "collapsed": false
   },
   "outputs": [],
   "source": [
    "from sklearn.preprocessing import LabelBinarizer\n",
    "# fit the Label binarizer\n",
    "lbs = list()\n",
    "for col in cat_cols:\n",
    "    lb = LabelBinarizer().fit(train_x[col])\n",
    "    lbs.append(lb)\n",
    "\n",
    "# transform the trianing set\n",
    "for col, lb in zip(cat_cols,lbs):\n",
    "    bina_df = pd.DataFrame(lb.transform(train_x[col]),\n",
    "                           columns= map(lambda x: col + '_' + str(x), range(len(lb.classes_))))\n",
    "    train_x = pd.concat([train_x, bina_df], axis=1)\n",
    "\n",
    "# transform the test set    \n",
    "for col,lb in zip(cat_cols, lbs):\n",
    "    bina_df = pd.DataFrame(lb.transform(test_x[col]),\n",
    "                           columns= map(lambda x: col + '_' + str(x), range(len(lb.classes_))))\n",
    "    bina_df.loc[bina_df.sum(axis = 1) == 0] =1./len(lb.classes_)\n",
    "    test_x = pd.concat([test_x, bina_df], axis=1)\n",
    "# drop the categorical data\n",
    "train_x.drop(cat_cols, axis =1, inplace=True)\n",
    "test_x.drop(cat_cols, axis =1, inplace=True)"
   ]
  },
  {
   "cell_type": "code",
   "execution_count": 48,
   "metadata": {
    "collapsed": false,
    "scrolled": true
   },
   "outputs": [
    {
     "name": "stdout",
     "output_type": "stream",
     "text": [
      "(4209, 563) (4209, 563)\n"
     ]
    }
   ],
   "source": [
    "print train_x.shape, test_x.shape"
   ]
  },
  {
   "cell_type": "markdown",
   "metadata": {},
   "source": [
    "# drop features which are collineare."
   ]
  },
  {
   "cell_type": "code",
   "execution_count": 49,
   "metadata": {
    "collapsed": false
   },
   "outputs": [],
   "source": [
    "# if all the values are the same, then drop all\n",
    "for col in [col  for col in train_x.columns if len(np.unique(train_x[col]))==1 ]:\n",
    "    train_x.drop(col, axis = 1, inplace= True)\n",
    "    test_x.drop(col, axis =1, inplace=True)"
   ]
  },
  {
   "cell_type": "code",
   "execution_count": 50,
   "metadata": {
    "collapsed": false
   },
   "outputs": [
    {
     "name": "stdout",
     "output_type": "stream",
     "text": [
      "(4209, 478) (4209, 478)\n"
     ]
    }
   ],
   "source": [
    "# if several columns are equal, then drop all and create new one\n",
    "train_corr = train_x.corr()\n",
    "colli = list()\n",
    "for col in range(train_corr.shape[0]):\n",
    "    for index in range(col):\n",
    "        if train_corr.iloc[index, col] == 1:\n",
    "            colli.append([index, col])\n",
    "def get_group(collis):\n",
    "    groups = list()\n",
    "    for coll in colli:\n",
    "        ctr = True\n",
    "        for i in range(len(groups)):\n",
    "            if coll[0] in groups[i] or coll[1] in groups[i]:\n",
    "                groups[i] = groups[i]|{coll[0], coll[1]}\n",
    "                ctr = False\n",
    "        if ctr:\n",
    "            groups.append({coll[0], coll[1]})\n",
    "    return groups\n",
    "groups = get_group(colli)\n",
    "for group in groups:\n",
    "    col = 'C_'+ str(group)\n",
    "    train_x[col] = train_x.iloc[:,list(group)].mean(axis=1)\n",
    "    test_x[col] = test_x.iloc[:,list(group)].mean(axis=1)\n",
    "cols_drop = list()\n",
    "for group in groups:\n",
    "    cols_drop.append(train_x.columns[list(group)])\n",
    "for col in cols_drop:\n",
    "    train_x.drop(col, axis = 1, inplace=True)\n",
    "    test_x.drop(col, axis = 1, inplace=True)\n",
    "print train_x.shape, test_x.shape"
   ]
  },
  {
   "cell_type": "markdown",
   "metadata": {},
   "source": [
    "## Use PCA"
   ]
  },
  {
   "cell_type": "code",
   "execution_count": 25,
   "metadata": {
    "collapsed": false
   },
   "outputs": [],
   "source": [
    "from sklearn.decomposition import PCA\n",
    "if False:\n",
    "    pca = PCA(n_components=136)\n",
    "    pca.fit(train_x)\n",
    "    train_x = pca.transform(train_x)\n",
    "    test_x = pca.transform(test_x)"
   ]
  },
  {
   "cell_type": "markdown",
   "metadata": {
    "collapsed": false
   },
   "source": [
    "pca_cumsum = np.cumsum(pca.explained_variance_ratio_)\n",
    "for i in range(200):\n",
    "    if pca_cumsum[i] > 0.95:\n",
    "        print i\n",
    "        break"
   ]
  },
  {
   "cell_type": "markdown",
   "metadata": {},
   "source": [
    "# Regression\n",
    "## RandomForest"
   ]
  },
  {
   "cell_type": "code",
   "execution_count": 51,
   "metadata": {
    "collapsed": false,
    "scrolled": true
   },
   "outputs": [],
   "source": [
    "from sklearn.metrics import r2_score\n",
    "from sklearn.ensemble import RandomForestRegressor\n",
    "from sklearn.model_selection import GridSearchCV\n",
    "rf_reg = RandomForestRegressor(n_estimators=500, max_depth=4, max_features = 0.618, n_jobs= -1)"
   ]
  },
  {
   "cell_type": "code",
   "execution_count": 55,
   "metadata": {
    "collapsed": false,
    "scrolled": true
   },
   "outputs": [
    {
     "data": {
      "text/plain": [
       "GridSearchCV(cv=None, error_score='raise',\n",
       "       estimator=RandomForestRegressor(bootstrap=True, criterion='mse', max_depth=4,\n",
       "           max_features=0.618, max_leaf_nodes=None,\n",
       "           min_impurity_split=1e-07, min_samples_leaf=1,\n",
       "           min_samples_split=2, min_weight_fraction_leaf=0.0,\n",
       "           n_estimators=500, n_jobs=-1, oob_score=False, random_state=None,\n",
       "           verbose=0, warm_start=False),\n",
       "       fit_params={}, iid=True, n_jobs=1, param_grid={},\n",
       "       pre_dispatch='2*n_jobs', refit=True, return_train_score=True,\n",
       "       scoring=None, verbose=0)"
      ]
     },
     "execution_count": 55,
     "metadata": {},
     "output_type": "execute_result"
    }
   ],
   "source": [
    "from sklearn.model_selection import GridSearchCV\n",
    "rf_regcv = GridSearchCV(rf_reg,\n",
    "                        {'n_estimators':[100,300,500]})\n",
    "rf_regcv.fit(train_x, train_y)"
   ]
  },
  {
   "cell_type": "code",
   "execution_count": 60,
   "metadata": {
    "collapsed": false
   },
   "outputs": [
    {
     "name": "stderr",
     "output_type": "stream",
     "text": [
      "E:\\Anaconda2\\lib\\site-packages\\sklearn\\model_selection\\_search.py:667: DeprecationWarning: The grid_scores_ attribute was deprecated in version 0.18 in favor of the more elaborate cv_results_ attribute. The grid_scores_ attribute will not be available from 0.20\n",
      "  DeprecationWarning)\n"
     ]
    },
    {
     "data": {
      "text/plain": [
       "[mean: 0.55926, std: 0.03813, params: {}]"
      ]
     },
     "execution_count": 60,
     "metadata": {},
     "output_type": "execute_result"
    }
   ],
   "source": [
    "rf_regcv.grid_scores_"
   ]
  },
  {
   "cell_type": "code",
   "execution_count": 66,
   "metadata": {
    "collapsed": false
   },
   "outputs": [
    {
     "data": {
      "image/png": "[encoded data removed]",
      "text/plain": [
       "<matplotlib.figure.Figure at 0x1126ca20>"
      ]
     },
     "metadata": {},
     "output_type": "display_data"
    },
    {
     "data": {
      "text/plain": [
       "(array([  1.00000000e+00,   0.00000000e+00,   0.00000000e+00,\n",
       "          0.00000000e+00,   0.00000000e+00,   0.00000000e+00,\n",
       "          0.00000000e+00,   0.00000000e+00,   0.00000000e+00,\n",
       "          0.00000000e+00,   1.00000000e+00,   0.00000000e+00,\n",
       "          2.00000000e+00,   6.00000000e+00,   2.80000000e+01,\n",
       "          5.60000000e+01,   1.41000000e+02,   4.04000000e+02,\n",
       "          2.26400000e+03,   1.30600000e+03]),\n",
       " array([-170.81076951, -161.61168386, -152.41259822, -143.21351257,\n",
       "        -134.01442693, -124.81534128, -115.61625564, -106.41716999,\n",
       "         -97.21808435,  -88.0189987 ,  -78.81991306,  -69.62082741,\n",
       "         -60.42174177,  -51.22265612,  -42.02357048,  -32.82448483,\n",
       "         -23.62539919,  -14.42631354,   -5.2272279 ,    3.97185775,\n",
       "          13.17094339]),\n",
       " <a list of 20 Patch objects>)"
      ]
     },
     "execution_count": 66,
     "metadata": {},
     "output_type": "execute_result"
    },
    {
     "data": {
      "image/png": "[encoded data removed]",
      "text/plain": [
       "<matplotlib.figure.Figure at 0x1524c4e0>"
      ]
     },
     "metadata": {},
     "output_type": "display_data"
    }
   ],
   "source": [
    "residual = rf_reg.predict(train_x) - train_y\n",
    "plt.plot(residual, 'o')\n",
    "plt.show()\n",
    "plt.hist(residual, bins = 20)"
   ]
  },
  {
   "cell_type": "code",
   "execution_count": 70,
   "metadata": {
    "collapsed": false,
    "scrolled": true
   },
   "outputs": [],
   "source": [
    "test_pred = rf_reg.predict(test_x)\n",
    "pd.DataFrame({'ID':test_df.ID,'y':test_pred}).to_csv('res_rf.csv',index =False)"
   ]
  },
  {
   "cell_type": "code",
   "execution_count": 71,
   "metadata": {
    "collapsed": true
   },
   "outputs": [],
   "source": [
    "train_df.plot?"
   ]
  },
  {
   "cell_type": "code",
   "execution_count": null,
   "metadata": {
    "collapsed": true
   },
   "outputs": [],
   "source": []
  }
 ],
 "metadata": {
  "kernelspec": {
   "display_name": "Python 2",
   "language": "python",
   "name": "python2"
  },
  "language_info": {
   "codemirror_mode": {
    "name": "ipython",
    "version": 2
   },
   "file_extension": ".py",
   "mimetype": "text/x-python",
   "name": "python",
   "nbconvert_exporter": "python",
   "pygments_lexer": "ipython2",
   "version": "2.7.13"
  }
 },
 "nbformat": 4,
 "nbformat_minor": 0
}
