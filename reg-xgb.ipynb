{
 "cells": [
  {
   "cell_type": "markdown",
   "metadata": {},
   "source": [
    "# Note\n",
    "## Jun. 6\n",
    ">Status\n",
    "1. By now, the best regressor is simple LassoCV using CV = 5\n",
    "2. For categorical feature, use OneHot encoder.\n",
    "3. The features having unique values, are dropped.\n",
    "4. Try box-cox change of Y, but no imporvement.\n",
    "\n",
    ">TODO\n",
    "1. More work on feature engineering, try to reduce the dimension:\n",
    " + PCA\n",
    " + delete the dimensions with small variance"
   ]
  },
  {
   "cell_type": "code",
   "execution_count": 1,
   "metadata": {
    "collapsed": true
   },
   "outputs": [],
   "source": [
    "%matplotlib inline\n",
    "import pandas as pd\n",
    "import numpy as np\n",
    "import warnings\n",
    "warnings.filterwarnings(\"ignore\")"
   ]
  },
  {
   "cell_type": "code",
   "execution_count": 2,
   "metadata": {
    "collapsed": false
   },
   "outputs": [],
   "source": [
    "train_y = pd.read_pickle('train_y.pkl')\n",
    "train_x = pd.read_pickle('train_x.pkl')\n",
    "test_x =  pd.read_pickle('test_x.pkl')"
   ]
  },
  {
   "cell_type": "markdown",
   "metadata": {},
   "source": [
    "# Regression\n",
    "## Xgboost"
   ]
  },
  {
   "cell_type": "code",
   "execution_count": 23,
   "metadata": {
    "collapsed": false,
    "scrolled": true
   },
   "outputs": [],
   "source": [
    "from sklearn.metrics import r2_score\n",
    "import xgboost as xgb\n",
    "from sklearn.model_selection import KFold, cross_val_score, GridSearchCV\n",
    "\n",
    "def xgb_cv_score(params, X, Y, n_folds = 3):\n",
    "    kf = KFold(n_splits=n_folds)\n",
    "    train_score = list()\n",
    "    test_score = list()\n",
    "    for train_index, test_index in kf.split(X):\n",
    "        X_train, X_test = X.loc[train_index], X.loc[test_index]\n",
    "        y_train, y_test = Y[train_index], Y[test_index]\n",
    "        train_d = xgb.DMatrix(X_train, y_train)\n",
    "        test_d = xgb.DMatrix(X_test)\n",
    "        print '-'*8 + 'START training loop' + '-'*8\n",
    "        xgb_reg = xgb.train(dict(params, silent=0), train_d, num_boost_round=1000)\n",
    "        print '-'*8 + 'Training loop DONE' + '-'*8\n",
    "        train_score.append(\n",
    "            r2_score(train_d.get_label(), xgb_reg.predict(train_d)))\n",
    "        test_score.append(\n",
    "            r2_score(y_test, xgb_reg.predict(test_d)))\n",
    "    print train_score, test_score\n",
    "    return np.mean(train_score), np.mean(test_score)"
   ]
  },
  {
   "cell_type": "code",
   "execution_count": 24,
   "metadata": {
    "collapsed": false,
    "scrolled": true
   },
   "outputs": [
    {
     "name": "stdout",
     "output_type": "stream",
     "text": [
      "--------START training loop--------\n",
      "--------Training loop DONE--------\n",
      "--------START training loop--------\n",
      "--------Training loop DONE--------\n",
      "--------START training loop--------\n",
      "--------Training loop DONE--------\n",
      "[0.61652872922899893, 0.58185621001990062, 0.5720455543858276] [0.49746142889296496, 0.58412668414617319, 0.59312101395527583]\n"
     ]
    },
    {
     "data": {
      "text/plain": [
       "(0.59014349787824238, 0.55823637566480466)"
      ]
     },
     "execution_count": 24,
     "metadata": {},
     "output_type": "execute_result"
    }
   ],
   "source": [
    "xgb_params = {\n",
    "    'n_trees': 500, \n",
    "    'eta': .01,\n",
    "    'max_depth': 2,\n",
    "    'subsample': 0.8,\n",
    "    'objective': 'reg:linear',\n",
    "    'eval_metric': 'rmse',\n",
    "    'base_score': train_y.mean(), # base prediction = mean(target)\n",
    "    'silent': 0,\n",
    "    'alpha': 100,\n",
    "    'lambda':0,\n",
    "    'gamma':0.5\n",
    "}\n",
    "xgb_cv_score(xgb_params, train_x, train_y)"
   ]
  },
  {
   "cell_type": "code",
   "execution_count": 30,
   "metadata": {
    "collapsed": false
   },
   "outputs": [],
   "source": [
    "xgb_reg = xgb.XGBRegressor(\n",
    "    max_depth=4, \n",
    "    learning_rate = 0.01, \n",
    "    n_estimators= 500,\n",
    "    objective='reg:linear',\n",
    "    subsample=0.8, \n",
    "    #colsample_bytree = 0.618,\n",
    "    gamma=0.5,\n",
    "    base_score = train_y.mean(),\n",
    "    reg_alpha= 100, \n",
    "    reg_lambda=0,\n",
    "    n_jobs=-1)\n",
    "params ={'max_depth':[2,3,4], 'gamma':[0.5]}\n",
    "xgb_regcv = GridSearchCV(xgb_reg, params, verbose=5)\n",
    "#xgb_regcv.fit(train_x, train_y)"
   ]
  },
  {
   "cell_type": "code",
   "execution_count": 26,
   "metadata": {
    "collapsed": false
   },
   "outputs": [
    {
     "name": "stderr",
     "output_type": "stream",
     "text": [
      "E:\\Anaconda2\\lib\\site-packages\\sklearn\\model_selection\\_search.py:667: DeprecationWarning: The grid_scores_ attribute was deprecated in version 0.18 in favor of the more elaborate cv_results_ attribute. The grid_scores_ attribute will not be available from 0.20\n",
      "  DeprecationWarning)\n"
     ]
    },
    {
     "data": {
      "text/plain": [
       "[mean: 0.55588, std: 0.04261, params: {'max_depth': 2, 'gamma': 0.5},\n",
       " mean: 0.56126, std: 0.03938, params: {'max_depth': 3, 'gamma': 0.5},\n",
       " mean: 0.55992, std: 0.03874, params: {'max_depth': 4, 'gamma': 0.5}]"
      ]
     },
     "execution_count": 26,
     "metadata": {},
     "output_type": "execute_result"
    }
   ],
   "source": [
    "xgb_regcv.grid_scores_"
   ]
  },
  {
   "cell_type": "code",
   "execution_count": 27,
   "metadata": {
    "collapsed": false
   },
   "outputs": [
    {
     "data": {
      "text/plain": [
       "{'gamma': 0.5, 'max_depth': 3}"
      ]
     },
     "execution_count": 27,
     "metadata": {},
     "output_type": "execute_result"
    }
   ],
   "source": [
    "xgb_reg = xgb_regcv.best_estimator_\n",
    "xgb_regcv.best_params_"
   ]
  },
  {
   "cell_type": "code",
   "execution_count": 31,
   "metadata": {
    "collapsed": false
   },
   "outputs": [
    {
     "data": {
      "text/plain": [
       "XGBRegressor(base_score=100.669318128, booster='gbtree', colsample_bylevel=1,\n",
       "       colsample_bytree=1, gamma=0.5, learning_rate=0.01, max_delta_step=0,\n",
       "       max_depth=4, min_child_weight=1, missing=None, n_estimators=500,\n",
       "       n_jobs=-1, nthread=-1, objective='reg:linear', random_state=0,\n",
       "       reg_alpha=100, reg_lambda=0, scale_pos_weight=1, seed=0,\n",
       "       silent=True, subsample=0.8)"
      ]
     },
     "execution_count": 31,
     "metadata": {},
     "output_type": "execute_result"
    }
   ],
   "source": [
    "xgb_reg.fit(train_x, train_y)"
   ]
  },
  {
   "cell_type": "code",
   "execution_count": 32,
   "metadata": {
    "collapsed": false,
    "scrolled": true
   },
   "outputs": [],
   "source": [
    "test_pred = xgb_reg.predict(test_x)\n",
    "pd.DataFrame({'ID':test_df.ID,'y':test_pred}).to_csv('res_xgb.csv',index =False)"
   ]
  },
  {
   "cell_type": "code",
   "execution_count": null,
   "metadata": {
    "collapsed": true
   },
   "outputs": [],
   "source": []
  }
 ],
 "metadata": {
  "kernelspec": {
   "display_name": "Python 2",
   "language": "python",
   "name": "python2"
  },
  "language_info": {
   "codemirror_mode": {
    "name": "ipython",
    "version": 2
   },
   "file_extension": ".py",
   "mimetype": "text/x-python",
   "name": "python",
   "nbconvert_exporter": "python",
   "pygments_lexer": "ipython2",
   "version": "2.7.13"
  }
 },
 "nbformat": 4,
 "nbformat_minor": 0
}
